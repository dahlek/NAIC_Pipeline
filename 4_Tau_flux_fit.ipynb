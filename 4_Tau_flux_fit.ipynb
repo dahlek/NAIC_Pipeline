{
 "cells": [
  {
   "cell_type": "markdown",
   "metadata": {},
   "source": [
    "Uses results from aperture photometry to derive the optical depth of the atmosphere for a given night of observing.\n",
    "Does the following:\n",
    "- Fits star flux as a function of airmass to find optical depth.\n",
    "- Uses optical depth with each star cube to find an F_top for each star cube\n",
    "- Takes the median of F_top\n",
    "- Uses F_top to find beta (photometric conversion factor)"
   ]
  },
  {
   "cell_type": "code",
   "execution_count": 1,
   "metadata": {
    "collapsed": true
   },
   "outputs": [],
   "source": [
    "import numpy as np\n",
    "from numpy import pi, r_\n",
    "from astropy.io import fits\n",
    "from scipy.optimize import curve_fit\n",
    "import matplotlib.pyplot as plt\n",
    "import math\n",
    "from scipy import interpolate\n",
    "from scipy import optimize"
   ]
  },
  {
   "cell_type": "markdown",
   "metadata": {},
   "source": [
    "### Functions"
   ]
  },
  {
   "cell_type": "code",
   "execution_count": 2,
   "metadata": {
    "collapsed": true
   },
   "outputs": [],
   "source": [
    "def F_obs(chi,tau,F_top):\n",
    "    # Function to use with curve_fit() to get tau\n",
    "    # F_top falls off with -tau*chi to give you F_obs\n",
    "    return F_top*np.exp(-tau*chi)\n",
    "\n",
    "def Ftop(chi,tau,F_obs):\n",
    "    # returns the flux at the top of the atmosphere by correcting for the atm\n",
    "    return F_obs*np.exp(tau*chi)\n",
    "\n",
    "def flux1(mag1,mag2,flux2):\n",
    "    # Useful for returning the flux of a star if it were scaled to Vega's magnitude.\n",
    "    # flux1 = Star's flux as Vega\n",
    "    # flux2 = Star's measured flux\n",
    "    # mag1 = Vega's flux\n",
    "    # mag2 = Star's flux\n",
    "    return flux2*(10**(0.4*(mag2-mag1)))\n",
    "\n",
    "def flux_relative_to_vega(mag2,flux2):\n",
    "    # Same as flux1, but with Vega's magnitude hard-coded.\n",
    "    # returns Star's flux as Vega\n",
    "    # flux2 = Star's measured flux\n",
    "    # mag2 = Star's flux\n",
    "    mag1 = 0.03 # Vega's V magnitude\n",
    "    return flux2*(10**(0.4*(mag2-mag1)))"
   ]
  },
  {
   "cell_type": "code",
   "execution_count": null,
   "metadata": {
    "collapsed": true
   },
   "outputs": [],
   "source": []
  },
  {
   "cell_type": "code",
   "execution_count": 33,
   "metadata": {
    "collapsed": true
   },
   "outputs": [],
   "source": [
    "def tau_flux_fit(science_directory,science_list,starlist_directory,star_directory):\n",
    "    # science directory = location of Jupiter cube\n",
    "    # science list = location+name of Jupiter image list\n",
    "    # starlist_directory = location of image name lists for each cube. Assumes that name of star image lists are star1, star2, etc.\n",
    "    # star_directory = location of all star fits files\n",
    "    # Make sure standard stars don't have significant reddening and that V mag is approximately average.\n",
    "    # Star lists need to be named in the format star1, star2, etc.\n",
    "    \n",
    "    \n",
    "    # Quieries:\n",
    "    num_stars = raw_input('How many individual stars were imaged? ')\n",
    "    \n",
    "    V_mags = []\n",
    "    for i in range(0,int(num_stars)):\n",
    "        mags = raw_input('For star '+str(i)+', what is it\\'s V magnitude? ')\n",
    "        V_mags.append(mags)\n",
    "        \n",
    "    num_cubes = int(raw_input('How many total cubes are there? '))\n",
    "    \n",
    "    airmass_plot_query = raw_input('Do you want to see a plot of airmasses for all of the star cubes? y/n ')\n",
    "    snr_plot_query = raw_input('Do you want to see a plot of the SNR spectrum for each star cube? y/n ')\n",
    "    flux_plot_query = raw_input('Do you want to see a plot of the stars\\'s flux? y/n ')\n",
    "        \n",
    "    # Pull wavelengths to analyze from science cube\n",
    "    '''print 'Pulling wavelength array from science images...'\n",
    "    wl_sci = []\n",
    "    sciencelist = np.loadtxt(science_list,dtype=str)\n",
    "    for i in range(0,len(sciencelist)):\n",
    "        im = fits.open(science_directory+sciencelist[i])\n",
    "        if im[0].header['rfon'] == 1:\n",
    "            wl_sci.append(im[0].header['lambda'])\n",
    "        im.close()'''\n",
    "                \n",
    "    # load star lists into dictionaries\n",
    "    star_list_dict = {}\n",
    "    for i in range(0,num_cubes):\n",
    "        star_list_dict['star'+str(i+1)+'_list'] = np.loadtxt(starlist_directory+'star'+str(i+1),dtype=str) # appends star lists in the wrong direction, but okay as long as we're consistent\n",
    "    \n",
    "    # Pull airmasses, wavelengths, star flux, and snr of each image from from each cube and assign them to a dictionary\n",
    "    airmass_dict = {}; airmass_wl_dict = {}; star_snr_dict = {}; star_flux_dict = {}\n",
    "    for i in range(0,len(star_list_dict)):\n",
    "        airmass_list = []; airmass_wl_list = []; star_snr_list = []; star_flux_list = []\n",
    "        for j in star_list_dict['star'+str(i+1)+'_list']:\n",
    "            #print j # Each image in the list\n",
    "            im = fits.open(star_directory+str(j))\n",
    "            if im[0].header['rfon'] == 1:\n",
    "                airmass_list.append(im[0].header['airmass'])\n",
    "                airmass_wl_list.append(im[0].header['lambda'])\n",
    "                star_snr_list.append(im[0].header['star_snr'])    \n",
    "                star_flux_list.append(im[0].header['star_flx'])\n",
    "            im.close()\n",
    "        airmass_dict['airmass_star'+str(i+1)] = airmass_list\n",
    "        airmass_wl_dict['airmass_wl_star'+str(i+1)] = airmass_wl_list\n",
    "        star_snr_dict['snr_star'+str(i+1)] = star_snr_list\n",
    "        star_flux_dict['flux_star'+str(i+1)] = star_flux_list\n",
    "        \n",
    "    # Plot airmass coverage\n",
    "    if airmass_plot_query == 'y':\n",
    "        for j in range(0,len(airmass_dict)):\n",
    "            plt.plot(airmass_dict['airmass_star'+str(j+1)], airmass_wl_dict['airmass_wl_star'+str(j+1)],'.')\n",
    "        plt.title('Airmass coverage')\n",
    "        plt.ylabel('Wavelength')\n",
    "        plt.xlabel('Airmass')\n",
    "        plt.legend(airmass_dict.keys())\n",
    "        plt.show()\n",
    "        \n",
    "    # Plot SNR spectra\n",
    "    if snr_plot_query == 'y':\n",
    "        for j in range(0,len(airmass_wl_dict)):\n",
    "            plt.plot(airmass_wl_dict['airmass_wl_star'+str(j+1)], star_snr_dict['snr_star'+str(j+1)], '.')\n",
    "        plt.title('SNR of All Cubes')\n",
    "        plt.ylabel('SNR')\n",
    "        plt.xlabel('Wavelength')\n",
    "        plt.legend(star_snr_dict.keys())\n",
    "        plt.show()\n",
    "        \n",
    "    # Plot flux spectra\n",
    "    if flux_plot_query == 'y':\n",
    "        for j in range(0,len(airmass_wl_dict)):\n",
    "            plt.plot(airmass_wl_dict['airmass_wl_star'+str(j+1)], star_flux_dict['flux_star'+str(j+1)], '.')\n",
    "        plt.title('Star Flux')\n",
    "        plt.ylabel('Flux (counts/sec)')\n",
    "        plt.xlabel('Wavelength')\n",
    "        plt.legend(star_flux_dict.keys())\n",
    "        plt.show()\n",
    "        \n",
    "        "
   ]
  },
  {
   "cell_type": "code",
   "execution_count": 34,
   "metadata": {},
   "outputs": [
    {
     "name": "stdout",
     "output_type": "stream",
     "text": [
      "How many individual stars were imaged? 1\n",
      "For star 0, what is it's V magnitude? 2\n",
      "How many total cubes are there? 2\n",
      "Do you want to see a plot of airmasses for all of the star cubes? y/n y\n",
      "Do you want to see a plot of the SNR spectrum for each star cube? y/n y\n",
      "Do you want to see a plot of the stars's flux? y/n y\n"
     ]
    },
    {
     "data": {
      "image/png": "[encoded data removed]",
      "text/plain": [
       "<matplotlib.figure.Figure at 0x181df1a710>"
      ]
     },
     "metadata": {},
     "output_type": "display_data"
    },
    {
     "data": {
      "image/png": "[encoded data removed]",
      "text/plain": [
       "<matplotlib.figure.Figure at 0x181df51510>"
      ]
     },
     "metadata": {},
     "output_type": "display_data"
    },
    {
     "data": {
      "image/png": "[encoded data removed]",
      "text/plain": [
       "<matplotlib.figure.Figure at 0x181e240a50>"
      ]
     },
     "metadata": {},
     "output_type": "display_data"
    }
   ],
   "source": [
    "tau_flux_fit('/Volumes/external_hd/march2017/redo/jupiter/',\\\n",
    "            '/Volumes/external_hd/march2017/march_2017_sciimages',\\\n",
    "            '/Volumes/external_hd/calstar_test/',\\\n",
    "            '/Volumes/external_hd/calstar_test/')"
   ]
  },
  {
   "cell_type": "code",
   "execution_count": 15,
   "metadata": {},
   "outputs": [],
   "source": [
    "d = {}\n",
    "for i in range(3):\n",
    "    d[\"group\" + str(i)] = [i, i+1]"
   ]
  },
  {
   "cell_type": "code",
   "execution_count": 16,
   "metadata": {},
   "outputs": [
    {
     "name": "stdout",
     "output_type": "stream",
     "text": [
      "1\n",
      "2\n",
      "0\n",
      "1\n",
      "2\n",
      "3\n"
     ]
    }
   ],
   "source": [
    "for i in d:\n",
    "    for j in d[i]:\n",
    "        print j # j is each element in the dictionary\n"
   ]
  },
  {
   "cell_type": "code",
   "execution_count": 17,
   "metadata": {},
   "outputs": [],
   "source": [
    "a,b,c = d"
   ]
  },
  {
   "cell_type": "code",
   "execution_count": 18,
   "metadata": {},
   "outputs": [
    {
     "data": {
      "text/plain": [
       "[1, 2]"
      ]
     },
     "execution_count": 18,
     "metadata": {},
     "output_type": "execute_result"
    }
   ],
   "source": [
    "d[\"group1\"]\n",
    "d[a]"
   ]
  },
  {
   "cell_type": "code",
   "execution_count": 26,
   "metadata": {},
   "outputs": [
    {
     "data": {
      "text/plain": [
       "['group1', 'group0', 'group2']"
      ]
     },
     "execution_count": 26,
     "metadata": {},
     "output_type": "execute_result"
    }
   ],
   "source": [
    "d.keys()"
   ]
  },
  {
   "cell_type": "code",
   "execution_count": 30,
   "metadata": {},
   "outputs": [],
   "source": [
    "d = {}; b = {}"
   ]
  },
  {
   "cell_type": "code",
   "execution_count": null,
   "metadata": {
    "collapsed": true
   },
   "outputs": [],
   "source": []
  }
 ],
 "metadata": {
  "kernelspec": {
   "display_name": "Python 2",
   "language": "python",
   "name": "python2"
  },
  "language_info": {
   "codemirror_mode": {
    "name": "ipython",
    "version": 2
   },
   "file_extension": ".py",
   "mimetype": "text/x-python",
   "name": "python",
   "nbconvert_exporter": "python",
   "pygments_lexer": "ipython2",
   "version": "2.7.14"
  }
 },
 "nbformat": 4,
 "nbformat_minor": 2
}
