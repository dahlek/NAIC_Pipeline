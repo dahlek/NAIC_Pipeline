{
 "cells": [
  {
   "cell_type": "markdown",
   "metadata": {},
   "source": [
    "Program that will prepare fits images prepared with my calibration scripts for Paul's geo cal code. Changes header keywords, calculates and attaches the North Pole position angle given a tcc log file from the telescope. Also makes a textfile with the names of images and their location to be used as input for disk_corr.pro."
   ]
  },
  {
   "cell_type": "code",
   "execution_count": null,
   "metadata": {
    "collapsed": true
   },
   "outputs": [],
   "source": [
    "import numpy as np\n",
    "from astropy.io import fits\n",
    "from scipy.interpolate import interp1d\n",
    "import matplotlib.pyplot as plt"
   ]
  },
  {
   "cell_type": "code",
   "execution_count": null,
   "metadata": {
    "collapsed": true
   },
   "outputs": [],
   "source": [
    "#program that finds north polar position angle\n",
    "def rot_angle(directory,images,apolog):\n",
    "    \n",
    "    #directory: directory where data is\n",
    "    #images: name of image list\n",
    "    #apolog: location and name of date_tel.txt files\n",
    "    \n",
    "    image_list = np.loadtxt(images,dtype=str)\n",
    "    apo_log = np.loadtxt(apolog,dtype=str)\n",
    "    \n",
    "    #Make arrays of the log's alt, az, and JD:\n",
    "    tcc_rot_ang = []\n",
    "    jd = []\n",
    "    \n",
    "    JD_per_s = 1./86400\n",
    "    JD_per_min = 1./1440\n",
    "    JD_per_hr = 1./24\n",
    "    \n",
    "    #Find the jd of the night; pull it from an image in the list\n",
    "    juliandate = float(int(fits.open(directory+image_list[1])[0].header['julian']))\n",
    "    \n",
    "    #make lists of rotation angles from apo log to make into functions:\n",
    "    for i in range(0,len(apo_log)):\n",
    "        #THIS ASSUMES THAT THE TELESCOPE IS RECORDING +CW until 180, then negative from ccw\n",
    "        #append the value of ObjInsAng if it's positive\n",
    "        if float(apo_log[i][12][11:-1]) >= 0:\n",
    "            tcc_rot_ang.append(float(apo_log[i][12][11:-1]))\n",
    "        #if it's negative:\n",
    "        if float(apo_log[i][12][11:-1]) < 0:\n",
    "            tcc_rot_ang.append(360.0+float(apo_log[i][12][11:-1]))\n",
    "        \n",
    "        #Convert hours:minutes:seconds into JD, append it\n",
    "        jd.append(juliandate+0.5+(float(apo_log[i][1][0:2])*JD_per_hr)+(float(apo_log[i][1][3:5])*JD_per_min)+(float(apo_log[i][1][6:-1])*JD_per_s))\n",
    "    \n",
    "    #Make functions of the rot angle as a function of JD via interp1d\n",
    "    rotang_func = interp1d(jd,tcc_rot_ang)\n",
    "    \n",
    "    #return jd,tcc_rot_ang\n",
    "\n",
    "    #Open the image and find the JD\n",
    "    for i in range(0,len(image_list)):\n",
    "        \n",
    "        im = fits.open(directory+image_list[i])\n",
    "        image = im[0].data\n",
    "        header = im[0].header\n",
    "        if header['rfon'] == 1:\n",
    "            im_jd = header['julian']\n",
    "            #print 'Appending quantities for image '+image_list[i]+' taken at '+str(im_jd)+'...'\n",
    "\n",
    "            im_rotang = round(rotang_func(im_jd),5)\n",
    "\n",
    "            #Append the alt and az of the instrument at the image's JD\n",
    "            header['ROT_ANG'] = (im_rotang,'(Degrees) angle cw from pos vertical to NCP')\n",
    "\n",
    "            #Find np_ang\n",
    "            npa = round(im_rotang + header['NPPANGLE'],5)\n",
    "            header['PNORTH'] = (npa,'Angle of the planets NP cw from CN (Degrees)')\n",
    "\n",
    "            #Save image:\n",
    "            im.writeto(directory+image_list[i],overwrite=True)\n",
    "            im.close()"
   ]
  },
  {
   "cell_type": "code",
   "execution_count": null,
   "metadata": {
    "collapsed": true
   },
   "outputs": [],
   "source": [
    "def geocal_preparer(directory,imagelist,tccfile,directory2,pixmask,directory_pixmask):\n",
    "    '''\n",
    "    directory - location of images to edit\n",
    "    imagelist - name and path of list of science images\n",
    "    tccfile - name of telescope file\n",
    "    directory2 - name of directory (probably on desktop) that will be used in the generated list for input to disk_corr.pro\n",
    "    pixmask - the name of the ASCII pixel mask\n",
    "    directory_pixmask - location of pixel mask\n",
    "    '''\n",
    "    \n",
    "    camera_query = raw_input('Was this image cube taken before Jan. 2018 (before the camera replacement)? If y, keywords APO will be changed to APO1. If n, keyword APO will be changed to APO2. Pauls program ORTHO_MAP.pro looks for these keywords to designate plate scale and pixel size, which are different for each camera.')\n",
    "    \n",
    "    #load image list\n",
    "    imlist = np.loadtxt(imagelist,dtype=str)\n",
    "    rfon_list = []\n",
    "    \n",
    "    #list of keywords to change:\n",
    "    old_keyword_list = ['OBS_LAT','OBS_LONG','SOL_LAT','SOL_LONG','OBS_R']\n",
    "    new_keyword_list = ['SE_LAT','SE_LON','SS_LAT','SS_LON','PE_RNG']\n",
    "    \n",
    "    #find and attach the np position angle\n",
    "    print 'Finding NP position angle...'\n",
    "    rot_angle(directory,imagelist,tccfile)\n",
    "    \n",
    "    \n",
    "    # Making pixel mask into a fits file\n",
    "    \n",
    "    ar = np.loadtxt(directory_pixmask+pixmask,dtype=int)\n",
    "    hdu = fits.PrimaryHDU(ar)\n",
    "    hdul = fits.HDUList([hdu])\n",
    "    hdul[0].header['History'] = 'Pixel mask made from '+pixmask\n",
    "    hdul.writeto(directory_pixmask+pixmask+'.fits',overwrite=True)\n",
    "    \n",
    "    \n",
    "    #Rename keywords\n",
    "    #print 'Renaming keywords...'\n",
    "    print 'Making RF-on list, updating APO keyword...'\n",
    "    for i in range(0,len(imlist)):\n",
    "        im = fits.open(directory+imlist[i])\n",
    "        if im[0].header['rfon'] == 1:\n",
    "            rfon_list.append(imlist[i])\n",
    "            #Indicating which camera was used\n",
    "            if camera_query == 'y':\n",
    "                im[0].header['OBSERVAT'] = ('APO1','APO1-taken w/ old cam')\n",
    "            if camera_query == 'n':\n",
    "                im[0].header['OBSERVAT'] = ('APO2','APO2-taken w/ new cam')\n",
    "            #Saving the name of the pixel mask\n",
    "            im[0].header['PIX_MASK'] = (pixmask+'.fits','Name of pixel mask file')\n",
    "        im.writeto(directory+imlist[i],overwrite=True)\n",
    "        im.close()           \n",
    "    #        for j in range(0,len(old_keyword_list)):\n",
    "    #            im[0].header.rename_keyword(old_keyword_list[j],new_keyword_list[j])\n",
    "    #    #save the image and close it\n",
    "    #    im.writeto(directory+imlist[i],overwrite=True)\n",
    "    #    im.close()\n",
    "\n",
    "        \n",
    "    #make a list with images' paths to be used as input\n",
    "    print 'Making input file for corr_disk.pro...'\n",
    "    x = []\n",
    "    for k in range(0,len(rfon_list)):\n",
    "        x.append(str(directory2+rfon_list[k]))\n",
    "    np.savetxt(directory+'input_list',x,fmt='%s')"
   ]
  },
  {
   "cell_type": "code",
   "execution_count": null,
   "metadata": {
    "collapsed": true
   },
   "outputs": [],
   "source": [
    "geocal_preparer('/Volumes/external_hd/march_2017_data/jupiter_2/',\\\n",
    "                '/Users/dahlek/Desktop/march2017/march_2017_sciimages',\\\n",
    "                '/Users/dahlek/Desktop/march2017/170327_tel.txt',\\\n",
    "                '/home/users/dahlek/march2017_geocal/',\\\n",
    "                'pix_mask_march2017',\\\n",
    "                '/Users/dahlek/Desktop/march2017/')"
   ]
  }
 ],
 "metadata": {
  "kernelspec": {
   "display_name": "Python 2",
   "language": "python",
   "name": "python2"
  },
  "language_info": {
   "codemirror_mode": {
    "name": "ipython",
    "version": 2
   },
   "file_extension": ".py",
   "mimetype": "text/x-python",
   "name": "python",
   "nbconvert_exporter": "python",
   "pygments_lexer": "ipython2",
   "version": "2.7.14"
  }
 },
 "nbformat": 4,
 "nbformat_minor": 2
}
