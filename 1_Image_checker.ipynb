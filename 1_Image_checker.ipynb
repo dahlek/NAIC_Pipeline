{
 "cells": [
  {
   "cell_type": "markdown",
   "metadata": {},
   "source": [
    "Routines used to loop through image lists and print out information.\n",
    "\n",
    "Also includes a routine to check for saturation, but need to have pixel mask (which can be made in Data_reduction_pipeline.ipynb) and need to analyze raw data."
   ]
  },
  {
   "cell_type": "code",
   "execution_count": null,
   "metadata": {
    "collapsed": true
   },
   "outputs": [],
   "source": [
    "import numpy as np\n",
    "from astropy.io import fits\n",
    "import matplotlib.pyplot as plt\n",
    "from scipy.ndimage import filters"
   ]
  },
  {
   "cell_type": "code",
   "execution_count": null,
   "metadata": {
    "collapsed": true
   },
   "outputs": [],
   "source": [
    "# Directory and list of images to examine. Generally, image list here is all raw images in a given directory.\n",
    "# To make image lists, pipe output of ls into a file (e.g. ls *FIT > imlist)\n",
    "\n",
    "directory = '/Users/dahlek/Desktop/2017-03-26/' \n",
    "jupiter = np.loadtxt(directory+'imlist',dtype=str)"
   ]
  },
  {
   "cell_type": "code",
   "execution_count": null,
   "metadata": {},
   "outputs": [],
   "source": [
    "# Print given keywords of interest for each file. Here, I'm printing the name of the file, whether that image is RF-on (1) or RF-off (0), the wavelength, the exposure time, and the UT date it was recorded\n",
    "# This allows the user to find the beginning and end of a given datacube - this information can be used below to copy and paste a cube list into a new text file.\n",
    "\n",
    "for i in range(0,len(jupiter)):\n",
    "    im = fits.open(directory+jupiter[i])\n",
    "    print jupiter[i],im[0].header['rfon'],im[0].header['lambda'],im[0].header['exposure'],im[0].header['date'],im[0].header['object']\n",
    "    im.close()"
   ]
  },
  {
   "cell_type": "code",
   "execution_count": null,
   "metadata": {},
   "outputs": [],
   "source": [
    "# print out same image list, but without extra information. copy and paste collection of files of interest from this list.\n",
    "for i in range(0,len(jupiter)):\n",
    "    im = fits.open(directory+jupiter[i])\n",
    "    print jupiter[i]\n",
    "    im.close()"
   ]
  },
  {
   "cell_type": "code",
   "execution_count": null,
   "metadata": {
    "scrolled": true
   },
   "outputs": [],
   "source": [
    "# Once list is saved, check list for repeat wavelengths\n",
    "# If there aren't any repeat wavelenths, will return set()\n",
    "# If there are repeat wavelengths, be sure to comment them out. Generally, repeat wavelengths arise after restarting a section of cube due to over-saturation, so it's generally safer to comment out the longer exposure times (especially if the following repeat wavelengths were imaged at a shorter exposure time)\n",
    "\n",
    "wl = []\n",
    "p = 0\n",
    "# whatever or wherever you saved the new image list\n",
    "directory = '/Users/dahlek/Desktop/march2017_2/jupiter5/' \n",
    "jupiter = np.loadtxt('/Users/dahlek/Desktop/march2017_2/'+'juplist5',dtype=str) \n",
    "for i in range(0,len(jupiter)):\n",
    "    im = fits.open(directory+jupiter[i])\n",
    "    if im[0].header['rfon'] == 1:\n",
    "        wl.append(im[0].header['lambda'])\n",
    "        #print jupiter[i],im[0].header['rfon'],im[0].header['lambda'],im[0].header['exposure'],im[0].header['date'],p\n",
    "        p += 1\n",
    "    im.close()\n",
    "    \n",
    "set([x for x in wl if wl.count(x) > 1])"
   ]
  },
  {
   "cell_type": "code",
   "execution_count": null,
   "metadata": {
    "collapsed": true
   },
   "outputs": [],
   "source": []
  },
  {
   "cell_type": "code",
   "execution_count": null,
   "metadata": {
    "collapsed": true
   },
   "outputs": [],
   "source": []
  },
  {
   "cell_type": "code",
   "execution_count": null,
   "metadata": {
    "collapsed": true
   },
   "outputs": [],
   "source": [
    "# Same routine as Jupiter lists, but for stars:"
   ]
  },
  {
   "cell_type": "code",
   "execution_count": null,
   "metadata": {
    "collapsed": true
   },
   "outputs": [],
   "source": [
    "#making star lists\n",
    "for i in range(0,len(stars)):\n",
    "    im = fits.open(directory+'/stars/'+stars[i])\n",
    "    #if im[0].header['lambda'] > 950 and im[0].header['rfon'] == 1:\n",
    "    print stars[i],im[0].header['rfon'],im[0].header['lambda'],im[0].header['exposure'],im[0].header['ut'],im[0].header['object']\n",
    "    im.close()"
   ]
  },
  {
   "cell_type": "code",
   "execution_count": null,
   "metadata": {
    "collapsed": true
   },
   "outputs": [],
   "source": [
    "for i in range(0,len(stars)):\n",
    "    im = fits.open(directory+'/stars/'+stars[i])\n",
    "    #if im[0].header['lambda'] > 950 and im[0].header['rfon'] == 1:\n",
    "    print stars[i]\n",
    "    im.close()"
   ]
  },
  {
   "cell_type": "code",
   "execution_count": null,
   "metadata": {
    "collapsed": true
   },
   "outputs": [],
   "source": []
  },
  {
   "cell_type": "code",
   "execution_count": null,
   "metadata": {
    "collapsed": true
   },
   "outputs": [],
   "source": [
    "# check for repeat wavelengths. For star cubes, sometimes it's nice to keep as many wavelengths as possible bc of photometric fits later\n",
    "wl = []\n",
    "for i in range(0,len(stars)):\n",
    "    im = fits.open(directory+stars[i])\n",
    "    if im[0].header['rfon'] == 1:\n",
    "        wl.append(im[0].header['lambda'])\n",
    "        print stars[i],im[0].header['orig_wl'],im[0].header['exposure'],im[0].header['ut'],im[0].header['object']\n",
    "    \n",
    "set([x for x in wl if wl.count(x) > 1])"
   ]
  },
  {
   "cell_type": "code",
   "execution_count": null,
   "metadata": {
    "collapsed": true
   },
   "outputs": [],
   "source": [
    "# Sometimes it's useful to visualize the wavelengths over the course of a cube\n",
    "plt.plot(wl,'.')\n",
    "plt.show()"
   ]
  },
  {
   "cell_type": "code",
   "execution_count": null,
   "metadata": {},
   "outputs": [],
   "source": [
    "# plot some raw data if you feel like it\n",
    "plt.matshow(fits.open(directory+jupiter[15])[0].data)\n",
    "plt.matshow(fits.open(directory+jupiter[150])[0].data)\n",
    "plt.show()"
   ]
  },
  {
   "cell_type": "code",
   "execution_count": null,
   "metadata": {
    "collapsed": true
   },
   "outputs": [],
   "source": [
    "# flats\n",
    "directory = '/Users/dahlek/Desktop/march2017/flats/'\n",
    "imlist = np.loadtxt('/Users/dahlek/Desktop/march2017/flatlist',dtype=str)\n",
    "for i in range(0,len(imlist)):\n",
    "    im = fits.open(directory+imlist[i])\n",
    "    print imlist[i],im[0].header['lambda'],im[0].header['rfon']"
   ]
  },
  {
   "cell_type": "code",
   "execution_count": null,
   "metadata": {
    "collapsed": true
   },
   "outputs": [],
   "source": [
    "im = fits.open('/Users/dahlek/Desktop/march2017/jupiter/NC0000179196.FIT')\n",
    "plt.matshow(im[0].data)\n",
    "plt.colorbar()\n",
    "plt.show()"
   ]
  },
  {
   "cell_type": "code",
   "execution_count": null,
   "metadata": {
    "collapsed": true
   },
   "outputs": [],
   "source": [
    "imfringe = fits.open('/Users/dahlek/Desktop/March_2017_data_Synthetic_fringe_files/Jupiter/NC0000179196.FIT')\n",
    "plt.matshow(imfringe[0].data)\n",
    "plt.colorbar()\n",
    "plt.show()"
   ]
  },
  {
   "cell_type": "code",
   "execution_count": null,
   "metadata": {
    "collapsed": true
   },
   "outputs": [],
   "source": [
    "plt.matshow(im[0].data/imfringe[0].data)\n",
    "plt.colorbar()\n",
    "plt.show()"
   ]
  },
  {
   "cell_type": "code",
   "execution_count": null,
   "metadata": {
    "collapsed": true
   },
   "outputs": [],
   "source": []
  },
  {
   "cell_type": "code",
   "execution_count": null,
   "metadata": {
    "collapsed": true
   },
   "outputs": [],
   "source": [
    "def sat_check(directory,images,pixels):\n",
    "    \n",
    "    #images = '/home/users/dahlek/NAIC/cube_lists/feb_2017' #*location and list of images to check*\n",
    "    #directory = '/zenith-data/dahlek/raw_data/2017-02-02/' #*data directory where fits files are*\n",
    "    #pixels = '/zenith-data/dahlek/' #location and text file of pixel mask.*\n",
    "    \n",
    "    #sat_value = 43836. #from linearity_tests.ipynb VALUE FOR OLD CAMERA, PRE-JAN 2018 DATA!\n",
    "    #sat_value = 27073. #3-sigma VALUE FOR NEW CAMERA\n",
    "    #sat_value = 30000. #test value\n",
    "    sat_value = 30400 #5 sigma value for new camera\n",
    "    max_pixels_rfon = 6000 #from Paul's thesis\n",
    "    max_pixels_rfoff = 10 #from Paul's thesis\n",
    "\n",
    "    sat_images_rfon = []\n",
    "    sat_images_rfoff = []\n",
    "    number_of_rfoffs = []\n",
    "    number_of_rfons = []\n",
    "    unbinned = []\n",
    "\n",
    "    imlist = np.loadtxt(images,dtype=str) #load the images to look at\n",
    "    pixel_mask = np.loadtxt(pixels,dtype=int) #Array of positions of hot pixels (Don't count)\n",
    "\n",
    "    for i in range(0,len(imlist)):\n",
    "\n",
    "        sat_pix = []\n",
    "        im = fits.open(directory+imlist[i])\n",
    "        data = im[0].data\n",
    "        header = im[0].header\n",
    "        rf = header['rfon']\n",
    "        if len(data) == 1024:\n",
    "            unbinned.append(1)\n",
    "            continue\n",
    "\n",
    "        if rf == 1: #If RF is on, check if there are more than 6000 nonlinear pixels. \n",
    "            #Right here, put qualifiers for being within a certain position on the sky\n",
    "            number_of_rfons.append(1)\n",
    "            for x in range(0,len(im[0].data)):\n",
    "                for j in range(0,len(im[0].data[x])):\n",
    "                    #Qualifier to ignore bad pixels:\n",
    "                    if pixel_mask[x][j] == 1:\n",
    "                        continue\n",
    "                    #If it's not a hot pixel, is it greater than the sat_value? If so, append a count\n",
    "                    elif im[0].data[x][j] > sat_value:\n",
    "                        sat_pix.append(1)       \n",
    "            if len(sat_pix) >= max_pixels_rfon:\n",
    "                #print 'There are more than 10 saturated pixels in',imlist[i]\n",
    "                sat_images_rfon.append(imlist[i])\n",
    "\n",
    "\n",
    "        else: #RF is off\n",
    "            number_of_rfoffs.append(1)\n",
    "            for x in range(0,len(im[0].data)):\n",
    "                for j in range(0,len(im[0].data[x])):\n",
    "                    #Qualifier to ignore bad pixels:\n",
    "                    if pixel_mask[x][j] == 1:\n",
    "                        continue\n",
    "                    #If it's not a hot pixel, is it greater than the sat_value? If so, append a count\n",
    "                    elif im[0].data[x][j] > sat_value:\n",
    "                        sat_pix.append(1)\n",
    "            if len(sat_pix) >= max_pixels_rfoff:\n",
    "                sat_images_rfoff.append(imlist[i])\n",
    "\n",
    "        #Save number of sat pixels to header\n",
    "        header['SAT_VAL'] = (sat_value,'Saturation level (DN)')\n",
    "        header['SAT_PIX'] = (len(sat_pix),'Number of pixels above saturation level')\n",
    "        im.writeto(directory+imlist[i],overwrite=True)\n",
    "        im.close()\n",
    "\n",
    "\n",
    "    print 'There were '+str(len(imlist))+' images total in '+directory\n",
    "    print 'There were '+str(len(sat_images_rfoff))+' saturated RF-off images:'\n",
    "    print sat_images_rfoff\n",
    "    print 'There were '+str(len(sat_images_rfon))+' saturated RF-on images:'\n",
    "    print sat_images_rfon\n",
    "    print 'There were',str(len(unbinned)),'unbinned images that weren\\'t analyzed.'"
   ]
  }
 ],
 "metadata": {
  "kernelspec": {
   "display_name": "Python 2",
   "language": "python",
   "name": "python2"
  },
  "language_info": {
   "codemirror_mode": {
    "name": "ipython",
    "version": 2
   },
   "file_extension": ".py",
   "mimetype": "text/x-python",
   "name": "python",
   "nbconvert_exporter": "python",
   "pygments_lexer": "ipython2",
   "version": "2.7.14"
  }
 },
 "nbformat": 4,
 "nbformat_minor": 2
}
