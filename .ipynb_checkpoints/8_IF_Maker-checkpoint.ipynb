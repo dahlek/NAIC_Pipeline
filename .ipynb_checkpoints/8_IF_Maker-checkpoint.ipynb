{
 "cells": [
  {
   "cell_type": "markdown",
   "metadata": {},
   "source": [
    "Uses the outputs from the other notebooks to calculate an I/F spectrum."
   ]
  },
  {
   "cell_type": "code",
   "execution_count": null,
   "metadata": {
    "collapsed": true
   },
   "outputs": [],
   "source": [
    "import numpy as np\n",
    "from astropy.io import fits\n",
    "from scipy.optimize import curve_fit\n",
    "import matplotlib.pyplot as plt\n",
    "import math\n",
    "from scipy import interpolate\n",
    "from numpy import pi, r_\n",
    "from scipy import optimize\n",
    "# error\n",
    "from uncertainties import ufloat\n",
    "from uncertainties.umath import *  # sin(), etc.\n",
    "#>>> x = ufloat(1, 0.1)  # x = 1+/-0.1"
   ]
  },
  {
   "cell_type": "code",
   "execution_count": null,
   "metadata": {
    "collapsed": true
   },
   "outputs": [],
   "source": [
    "wl_sci = np.linspace(470,950,241) # NAIC wavelengths"
   ]
  },
  {
   "cell_type": "code",
   "execution_count": null,
   "metadata": {
    "collapsed": true
   },
   "outputs": [],
   "source": [
    "# Jupiter information:\n",
    "\n",
    "# Load F_obs (raw Jupiter spectrum, from Geo_cal)\n",
    "F_obs_error = np.loadtxt('/Users/dahlek/Desktop/nemesis_inputs_march2019/NEB_averaged_geo5')\n",
    "\n",
    "# pull airmasses\n",
    "directory = '/Volumes/external_hd/march2017/redo/jupiter/'\n",
    "imlist = np.loadtxt('/Volumes/external_hd/march2017/march_2017_sciimages',dtype=str)\n",
    "\n",
    "wl_airmass = []\n",
    "jup_airmass = []\n",
    "\n",
    "#collect info on fringe-corrected spectrum\n",
    "for i in range(0,len(imlist)):\n",
    "    im = fits.open(directory+imlist[i])\n",
    "    if im[0].header['rfon'] == 1:\n",
    "        wl_airmass.append(im[0].header['lambda'])\n",
    "        jup_airmass.append(im[0].header['airmass'])\n",
    "    im.close()\n",
    "\n",
    "plt.plot(wl_sci,F_obs_error[:,1])\n",
    "plt.title('Raw Jupiter spectrum')\n",
    "plt.ylabel('DN/sec')\n",
    "plt.xlabel('Wavelength (nm)')\n",
    "plt.show()\n",
    "\n",
    "plt.plot(wl_sci,jup_airmass)\n",
    "plt.title('Jupiter cube airmass')\n",
    "plt.ylabel('Airmass')\n",
    "plt.xlabel('Wavelength (nm)')\n",
    "plt.show()"
   ]
  },
  {
   "cell_type": "code",
   "execution_count": null,
   "metadata": {
    "collapsed": true
   },
   "outputs": [],
   "source": [
    "# Other information:\n",
    "\n",
    "# Load Beta (from Atm_fitting)\n",
    "beta = np.loadtxt('/Users/dahlek/Desktop/beta_test_2020')\n",
    "\n",
    "# Load optical depth (from Atm_fitting)\n",
    "tau = np.loadtxt('/Volumes/external_hd/march2017/redo/tau_march2017_noVir85')\n",
    "\n",
    "# Load Kurucz model spectra\n",
    "F_S = np.loadtxt('/Users/dahlek/Desktop/Vega_and_solar_Kurucz_spectra')[:,2]"
   ]
  },
  {
   "cell_type": "code",
   "execution_count": null,
   "metadata": {
    "collapsed": true
   },
   "outputs": [],
   "source": [
    "plt.errorbar(wl_sci,beta[:,1])\n",
    "plt.errorbar(wl_sci,beta[:,1],color='blue',ecolor='g',yerr=np.array(beta[:,2]))\n",
    "plt.title('Beta')\n",
    "plt.ylabel('(DN/sec)/(erg/sec/cm2/A)')\n",
    "plt.show()\n",
    "\n",
    "plt.plot(wl_sci,tau[:,1])\n",
    "plt.errorbar(wl_sci,tau[:,1],color='blue',ecolor='g',yerr=np.array(tau[:,2]))\n",
    "plt.title('Derived Optical Depth')\n",
    "plt.show()\n",
    "\n",
    "plt.plot(wl_sci,F_S)\n",
    "plt.errorbar(wl_sci,F_S,color='blue',ecolor='g',yerr=np.array(F_S*0.01))\n",
    "plt.title('Model Solar spectrum')\n",
    "plt.ylabel('erg/sec/cm2/A')\n",
    "plt.show()"
   ]
  },
  {
   "cell_type": "code",
   "execution_count": null,
   "metadata": {
    "collapsed": true
   },
   "outputs": [],
   "source": [
    "# Constants:\n",
    "\n",
    "# Platescales (don't take proper motion into account):\n",
    "#Old camera (pre-Jan 2018):\n",
    "#0.10593070086707904+/-0.006012429373929471\n",
    "#New camera (post-Jan 2018):\n",
    "#0.0847900011797713+/-0.004432559233932486\n",
    "\n",
    "\n",
    "def omega_maker(platescale):\n",
    "    '''Convert platescale to radians and square'''\n",
    "    return (platescale/206265.)**2\n",
    "\n",
    "# Solid angle of a pixel on NAIC CCD (pre-2018 camera). \n",
    "# Derived via double star measurements.\n",
    "omega_with_error = ufloat(2.4724062e-13,1.4033e-14) # steradians\n",
    "#omega = #0.10593+/-0.006012429373929471 \"/pix\n",
    "\n",
    "r = 5.45 #distance to jupiter from Sun, AU in march 2017"
   ]
  },
  {
   "cell_type": "code",
   "execution_count": null,
   "metadata": {
    "collapsed": true
   },
   "outputs": [],
   "source": [
    "IF = []\n",
    "IF_error = []\n",
    "\n",
    "for i in range(0,len(wl_sci)):\n",
    "    \n",
    "    # define each value and its error at that wavelength\n",
    "    beta_error = ufloat(beta[i,1],beta[i,2])\n",
    "    F_obs = ufloat(F_obs_error[i,1],F_obs_error[i,8])\n",
    "    tau_error = ufloat(tau[i,1],tau[i,2])\n",
    "    chi = jup_airmass[i]\n",
    "    F_Solar = ufloat(F_S[i],F_S[i]*0.01) # assuming 1% error\n",
    "    \n",
    "    top = math.pi*beta_error*F_obs*np.e**(tau_error*chi)    \n",
    "    bottom = omega_with_error*(F_Solar/(r**2))\n",
    "    \n",
    "    g = top/bottom\n",
    "    \n",
    "    IF.append(g.nominal_value)\n",
    "    IF_error.append(g.std_dev)"
   ]
  },
  {
   "cell_type": "code",
   "execution_count": null,
   "metadata": {
    "collapsed": true
   },
   "outputs": [],
   "source": [
    "plt.plot(wl_sci,IF)\n",
    "plt.errorbar(wl_sci,IF,color='blue',ecolor='c',yerr=np.array(IF_error))\n",
    "plt.title('I/F spectrum')\n",
    "plt.ylabel('I/F')\n",
    "plt.xlabel('Wavelength (nm)')\n",
    "plt.show()"
   ]
  },
  {
   "cell_type": "code",
   "execution_count": null,
   "metadata": {
    "collapsed": true
   },
   "outputs": [],
   "source": []
  },
  {
   "cell_type": "code",
   "execution_count": null,
   "metadata": {
    "collapsed": true
   },
   "outputs": [],
   "source": []
  }
 ],
 "metadata": {
  "kernelspec": {
   "display_name": "Python 2",
   "language": "python",
   "name": "python2"
  },
  "language_info": {
   "codemirror_mode": {
    "name": "ipython",
    "version": 2
   },
   "file_extension": ".py",
   "mimetype": "text/x-python",
   "name": "python",
   "nbconvert_exporter": "python",
   "pygments_lexer": "ipython2",
   "version": "2.7.14"
  }
 },
 "nbformat": 4,
 "nbformat_minor": 2
}
