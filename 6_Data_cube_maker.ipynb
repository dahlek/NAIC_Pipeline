{
 "cells": [
  {
   "cell_type": "markdown",
   "metadata": {},
   "source": [
    "Program that, given a list and location of images that have the planet center and north pole position angle saved in the header, rotates and centers the images and saves them into a single FITS file"
   ]
  },
  {
   "cell_type": "code",
   "execution_count": 1,
   "metadata": {
    "collapsed": true
   },
   "outputs": [],
   "source": [
    "import numpy as np\n",
    "import matplotlib.pyplot as plt\n",
    "from astropy.io import fits\n",
    "import math\n",
    "import scipy\n",
    "from scipy import ndimage \n",
    "# info on ndimage: https://docs.scipy.org/doc/scipy/reference/generated/scipy.ndimage.rotate.html"
   ]
  },
  {
   "cell_type": "code",
   "execution_count": null,
   "metadata": {
    "collapsed": true
   },
   "outputs": [],
   "source": [
    "directory = '/Volumes/external_hd/march2017/redo/jupiter_2/' # location of images\n",
    "imlist = np.loadtxt('/Volumes/external_hd/march2017/march_2017_sciimages',dtype=str) # list of images\n",
    "image_cube_name = '/Users/dahlek/Desktop/march2017_cube.fits' # name of final image cube fits file\n",
    "\n",
    "length = 600 # size of square array that image is fit onto\n",
    "croplength = 140 # length to crop off final image\n",
    "starting_index = 0\n",
    "data_list = []\n",
    "\n",
    "for i in range(starting_index,len(imlist)):\n",
    "    im = fits.open(directory+imlist[i])\n",
    "    if im[0].header['rfon'] == 1:\n",
    "        print imlist[i], im[0].header['lambda'],im[0].header['pnorth']\n",
    "        pnorth = im[0].header['pnorth']\n",
    "        pceny = im[0].header['pceny']\n",
    "        pcenx = im[0].header['pcenx']\n",
    "        # make a big blank array\n",
    "        blank = np.zeros((length,length))\n",
    "        blankcenx = length/2\n",
    "        blankceny = length/2\n",
    "        diffx = blankcenx-pcenx\n",
    "        diffy = blankceny-pceny\n",
    "        # map jupiter image onto blank array\n",
    "        for f in range(0,len(blank)):\n",
    "            for k in range(0,len(blank[f])):\n",
    "                if f < im[0].header['NAXIS1']:\n",
    "                    if k < im[0].header['NAXIS2']:\n",
    "                        blank[int(f+diffy)][int(k+diffx)] = im[0].data[f][k]\n",
    "        \n",
    "        length2 = len(scipy.ndimage.rotate(blank,-pnorth))\n",
    "\n",
    "        # plot rotated and centered image; uncomment if you want to see/check each image\n",
    "        '''plt.matshow(np.flip(scipy.ndimage.rotate(blank,-pnorth),axis=1) [croplength:(length2-croplength),croplength:(length2-croplength)])\n",
    "        # https://docs.scipy.org/doc/numpy/reference/generated/numpy.flip.html\n",
    "        # plot crosshairs\n",
    "        plt.plot([(length2-2*croplength)/2,(length2-2*croplength)/2],[0,(length2-2*croplength)],'red')\n",
    "        plt.plot([0,(length2-2*croplength)],[(length2-2*croplength)/2,(length2-2*croplength)/2],'red')\n",
    "        plt.xlim(0,length2-2*croplength)\n",
    "        plt.ylim(0,length2-2*croplength)\n",
    "        plt.show()'''\n",
    "        \n",
    "        # put it into a fits file\n",
    "        data_list.append(np.flip(scipy.ndimage.rotate(blank,-pnorth),axis=1) [croplength:(length2-croplength),croplength:(length2-croplength)]) # rotated, flipped, cropped jupiter image\n",
    "\n",
    "    im.close()\n",
    "\n",
    "# after looping though images, save them to a fits file\n",
    "hdu = fits.HDUList(fits.PrimaryHDU(data_list))\n",
    "print hdu.info()\n",
    "firstwl = fits.open(directory+imlist[starting_index])[0].header['lambda']\n",
    "hdu[0].header['FIRST_WL'] = (firstwl,'First wavelength')\n",
    "hdu.writeto(image_cube_name,overwrite = True)"
   ]
  }
 ],
 "metadata": {
  "kernelspec": {
   "display_name": "Python 2",
   "language": "python",
   "name": "python2"
  },
  "language_info": {
   "codemirror_mode": {
    "name": "ipython",
    "version": 2
   },
   "file_extension": ".py",
   "mimetype": "text/x-python",
   "name": "python",
   "nbconvert_exporter": "python",
   "pygments_lexer": "ipython2",
   "version": "2.7.14"
  }
 },
 "nbformat": 4,
 "nbformat_minor": 2
}
