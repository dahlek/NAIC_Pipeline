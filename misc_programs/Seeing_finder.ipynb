{
 "cells": [
  {
   "cell_type": "markdown",
   "metadata": {},
   "source": [
    "Program for finding seeing from star cubes by fitting gaussians to the star in each image."
   ]
  },
  {
   "cell_type": "code",
   "execution_count": null,
   "metadata": {
    "collapsed": true
   },
   "outputs": [],
   "source": [
    "import numpy as np\n",
    "from astropy.io import fits\n",
    "import matplotlib.pyplot as plt\n",
    "from numpy import pi, r_\n",
    "from scipy import optimize\n",
    "import math"
   ]
  },
  {
   "cell_type": "code",
   "execution_count": null,
   "metadata": {
    "collapsed": true
   },
   "outputs": [],
   "source": [
    "#programs to fit a Gaussian to the stars:\n",
    "#From http://scipy-cookbook.readthedocs.io/items/FittingData.html\n",
    "\n",
    "def gaussian(height, center_x, center_y, width_x, width_y):\n",
    "    \"\"\"Returns a gaussian function with the given parameters\"\"\"\n",
    "    width_x = float(width_x)\n",
    "    width_y = float(width_y)\n",
    "    return lambda x,y: height*np.exp(\n",
    "                -(((center_x-x)/width_x)**2+((center_y-y)/width_y)**2)/2)\n",
    "\n",
    "def moments(data):\n",
    "    \"\"\"Returns (height, x, y, width_x, width_y)\n",
    "    the gaussian parameters of a 2D distribution by calculating its\n",
    "    moments \"\"\"\n",
    "    total = data.sum()\n",
    "    X, Y = np.indices(data.shape)\n",
    "    x = (X*data).sum()/total\n",
    "    y = (Y*data).sum()/total\n",
    "    col = data[:, int(y)]\n",
    "    width_x = np.sqrt(np.abs((np.arange(col.size)-y)**2*col).sum()/col.sum())\n",
    "    row = data[int(x), :]\n",
    "    width_y = np.sqrt(np.abs((np.arange(row.size)-x)**2*row).sum()/row.sum())\n",
    "    height = data.max()\n",
    "    return height, x, y, width_x, width_y\n",
    "\n",
    "def fitgaussian(data):\n",
    "    \"\"\"Returns (height, x, y, width_x, width_y)\n",
    "    the gaussian parameters of a 2D distribution found by a fit\"\"\"\n",
    "    params = moments(data)\n",
    "    errorfunction = lambda p: np.ravel(gaussian(*p)(*np.indices(data.shape)) -\n",
    "                                 data)\n",
    "    p, success = optimize.leastsq(errorfunction, params)\n",
    "    return p\n",
    "\n",
    "def fwhm(width):\n",
    "    \"\"\"Takes widths from above programs, returns FWHM\"\"\"\n",
    "    return 2*math.sqrt(2*np.log(2))*width"
   ]
  },
  {
   "cell_type": "code",
   "execution_count": null,
   "metadata": {},
   "outputs": [],
   "source": [
    "# load cal star cubes\n",
    "# cubes that is closest to Jupiter data - star6\n",
    "\n",
    "imlist = np.loadtxt('/Volumes/external_hd/march2017/redo/calstars/star6',dtype=str)\n",
    "directory = '/Volumes/external_hd/march2017/redo/calstars/'\n",
    "\n",
    "# load coordinates surrounding a star. Closely cropping the star allows the Gaussian fitter to avoid errors.\n",
    "x1 = 200\n",
    "x2 = 300\n",
    "y1 = 200\n",
    "y2 = 300\n",
    "\n",
    "wl_list = []\n",
    "x1_list = []\n",
    "y1_list = []\n",
    "fwhm_x_list = []\n",
    "fwhm_y_list = []\n",
    "\n",
    "for i in range(0,len(imlist)):\n",
    "    im = fits.open(directory+imlist[i])\n",
    "    if im[0].header['rfon'] == 1:\n",
    "        wl_list.append(im[0].header['orig_wl'])\n",
    "        gauss = fitgaussian(im[0].data[y1:y2,x1:x2])\n",
    "        x1, y1, fwhm_x, fwhm_y  = gauss[1], gauss[2], fwhm(gauss[3]), fwhm(gauss[4])\n",
    "        x1_list.append(200+x1)\n",
    "        y1_list.append(200+y1)\n",
    "        fwhm_x_list.append(fwhm_x)\n",
    "        fwhm_y_list.append(fwhm_y)\n",
    "        print 'x and y position of star:', y1, x1\n",
    "        #print gauss[3], gauss[4]\n",
    "        print 'FWHM x and y values:',fwhm_x, fwhm_y\n",
    "        print 'Wavelength:',im[0].header['orig_wl']\n",
    "        plt.matshow(im[0].data[y1:y2,x1:x2])\n",
    "        plt.plot(y1,x1,'ro')\n",
    "        plt.show()\n",
    "    im.close()"
   ]
  },
  {
   "cell_type": "code",
   "execution_count": null,
   "metadata": {},
   "outputs": [],
   "source": [
    "plt.plot(wl_list,np.array(x1_list)+x1)\n",
    "plt.ylabel('X-position')\n",
    "plt.xlabel('Wavelength (nm)')\n",
    "plt.show()\n",
    "\n",
    "plt.plot(wl_list,np.array(y1_list)+y1)\n",
    "plt.ylabel('Y-position')\n",
    "plt.xlabel('Wavelength (nm)')\n",
    "plt.show()"
   ]
  },
  {
   "cell_type": "code",
   "execution_count": null,
   "metadata": {},
   "outputs": [],
   "source": [
    "plt.plot(wl_list,abs(np.array(fwhm_x_list)))\n",
    "plt.ylabel('FWHM (x-direction)')\n",
    "plt.show()\n",
    "\n",
    "plt.plot(wl_list,abs(np.array(fwhm_y_list)))\n",
    "plt.ylabel('FWHM (y-direction)')\n",
    "plt.show()"
   ]
  },
  {
   "cell_type": "code",
   "execution_count": null,
   "metadata": {},
   "outputs": [],
   "source": [
    "# mean X and Y FWHM in pixels for the star cube before Jupiter's\n",
    "print np.mean(abs(np.array(fwhm_x_list)))\n",
    "print np.mean(abs(np.array(fwhm_y_list)))"
   ]
  },
  {
   "cell_type": "code",
   "execution_count": null,
   "metadata": {},
   "outputs": [],
   "source": [
    "# find average FWHM size using those values\n",
    "np.mean([7.56447635299,7.74006015751])"
   ]
  },
  {
   "cell_type": "code",
   "execution_count": null,
   "metadata": {
    "collapsed": true
   },
   "outputs": [],
   "source": [
    "#plate scale for old camera:\n",
    "plate_scale = 0.1027 #\"/pix"
   ]
  },
  {
   "cell_type": "code",
   "execution_count": null,
   "metadata": {},
   "outputs": [],
   "source": [
    "# Average seeing (arcseconds):\n",
    "7.6522682552500001*plate_scale"
   ]
  },
  {
   "cell_type": "code",
   "execution_count": null,
   "metadata": {
    "collapsed": true
   },
   "outputs": [],
   "source": [
    "0.785887949814175 # seeing for Jupiter cube from march 2017"
   ]
  },
  {
   "cell_type": "code",
   "execution_count": null,
   "metadata": {
    "collapsed": true
   },
   "outputs": [],
   "source": []
  }
 ],
 "metadata": {
  "kernelspec": {
   "display_name": "Python 2",
   "language": "python",
   "name": "python2"
  },
  "language_info": {
   "codemirror_mode": {
    "name": "ipython",
    "version": 2
   },
   "file_extension": ".py",
   "mimetype": "text/x-python",
   "name": "python",
   "nbconvert_exporter": "python",
   "pygments_lexer": "ipython2",
   "version": "2.7.14"
  }
 },
 "nbformat": 4,
 "nbformat_minor": 2
}
