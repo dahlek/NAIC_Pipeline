{
 "cells": [
  {
   "cell_type": "markdown",
   "metadata": {},
   "source": [
    "Program to pull a raw spectrum from a list of Jupiter images by fitting an ellipse to Jupiter in each image and taking the average of the counts within that ellipse."
   ]
  },
  {
   "cell_type": "code",
   "execution_count": null,
   "metadata": {
    "collapsed": true
   },
   "outputs": [],
   "source": [
    "import numpy as np\n",
    "from astropy.io import fits\n",
    "from scipy.optimize import curve_fit\n",
    "import matplotlib.pyplot as plt\n",
    "import math\n",
    "from scipy import interpolate\n",
    "from numpy import pi, r_\n",
    "from scipy import optimize\n",
    "from scipy.interpolate import interp1d\n",
    "import math\n",
    "from uncertainties import ufloat\n",
    "from uncertainties.umath import *"
   ]
  },
  {
   "cell_type": "code",
   "execution_count": null,
   "metadata": {
    "collapsed": true
   },
   "outputs": [],
   "source": [
    "#programs to fit a Gaussian to the stars:\n",
    "#From http://scipy-cookbook.readthedocs.io/items/FittingData.html\n",
    "\n",
    "def gaussian(height, center_x, center_y, width_x, width_y):\n",
    "    \"\"\"Returns a gaussian function with the given parameters\"\"\"\n",
    "    width_x = float(width_x)\n",
    "    width_y = float(width_y)\n",
    "    return lambda x,y: height*np.exp(\n",
    "                -(((center_x-x)/width_x)**2+((center_y-y)/width_y)**2)/2)\n",
    "\n",
    "def moments(data):\n",
    "    \"\"\"Returns (height, x, y, width_x, width_y)\n",
    "    the gaussian parameters of a 2D distribution by calculating its\n",
    "    moments \"\"\"\n",
    "    total = data.sum()\n",
    "    X, Y = np.indices(data.shape)\n",
    "    x = (X*data).sum()/total\n",
    "    y = (Y*data).sum()/total\n",
    "    col = data[:, int(y)]\n",
    "    width_x = np.sqrt(np.abs((np.arange(col.size)-y)**2*col).sum()/col.sum())\n",
    "    row = data[int(x), :]\n",
    "    width_y = np.sqrt(np.abs((np.arange(row.size)-x)**2*row).sum()/row.sum())\n",
    "    height = data.max()\n",
    "    return height, x, y, width_x, width_y\n",
    "\n",
    "def fitgaussian(data):\n",
    "    \"\"\"Returns (height, x, y, width_x, width_y)\n",
    "    the gaussian parameters of a 2D distribution found by a fit\"\"\"\n",
    "    params = moments(data)\n",
    "    errorfunction = lambda p: np.ravel(gaussian(*p)(*np.indices(data.shape)) -\n",
    "                                 data)\n",
    "    p, success = optimize.leastsq(errorfunction, params)\n",
    "    return p\n",
    "\n",
    "def fwhm(width):\n",
    "    \"\"\"Takes widths from above programs, returns FWHM\"\"\"\n",
    "    return 2*math.sqrt(2*np.log(2))*width"
   ]
  },
  {
   "cell_type": "code",
   "execution_count": null,
   "metadata": {},
   "outputs": [],
   "source": [
    "# save directory and list of Jupiter images; make list of wavelength\n",
    "jupdirectory = '/Users/dahlek/Desktop/disk_av_test/'\n",
    "juplist = np.loadtxt(jupdirectory+'imlist',dtype=str)\n",
    "wl_sci = np.linspace(470,950,241)"
   ]
  },
  {
   "cell_type": "code",
   "execution_count": null,
   "metadata": {},
   "outputs": [],
   "source": [
    "# Calculate semi major and minor axes\n",
    "R_eq = 71492 # km\n",
    "R_polar = 66854 # km\n",
    "distance = 7.53E8 # Earth-Jupiter distance in km at time of observations\n",
    "#plate scale for old camera:\n",
    "plate_scale = 0.1027 #\"/pix\n",
    "seeing = 1.0 # how many arcseconds to add to account for seeing \n",
    "\n",
    "a = int((np.tan(R_eq/distance)*206265+seeing)/plate_scale) # arcseconds corresponding to R_eq plus an arcescond of seeing\n",
    "b = int((np.tan(R_polar/distance)*206265+seeing)/plate_scale) # arcseconds corresponding to R_polar plus an arcescond of seeing\n",
    "\n",
    "print a,b #axes in pixels"
   ]
  },
  {
   "cell_type": "code",
   "execution_count": null,
   "metadata": {},
   "outputs": [],
   "source": []
  },
  {
   "cell_type": "code",
   "execution_count": null,
   "metadata": {},
   "outputs": [],
   "source": [
    "# ellipse map on image cube, to check location\n",
    "\n",
    "ave_spec = []\n",
    "\n",
    "for i in range(0,len(juplist)):\n",
    "    im = fits.open(jupdirectory+juplist[i])\n",
    "    if im[0].header['rfon'] == 1:\n",
    "        \n",
    "\n",
    "        gauss = fitgaussian(im[0].data)\n",
    "        x1, y1, fwhm_x, fwhm_y  = gauss[1], gauss[2], fwhm(gauss[3]), fwhm(gauss[4])\n",
    "        print im[0].header['lambda']\n",
    "        print 'x and y position of center:', y1, x1\n",
    "        \n",
    "        pnorth = im[0].header['pnorth']\n",
    "\n",
    "        blankarray = np.zeros((512,512))\n",
    "        pulled_image = np.zeros((512,512))\n",
    "        pulled_image[:,:] = -50\n",
    "\n",
    "\n",
    "        # ellipse - doesn't work\n",
    "        #for i in range(0,len(cube[0].data)):\n",
    "        for x in range(0,len(im[0].data)):\n",
    "            for y in range(0,len(im[0].data[x])):\n",
    "                if (((x-x1)*np.cos(pnorth*math.pi/360)+(y-y1)*np.sin(pnorth*math.pi/360)) **2)/(a**2) + \\\n",
    "                    (((x-x1)*np.sin(pnorth*math.pi/360)-(y-y1)*np.cos(pnorth*math.pi/360))**2)/(b**2) <= 1:\n",
    "                        \n",
    "                        pulled_image[x][y] = im[0].data[x][y] # make image of pulled disk\n",
    "                        blankarray[x][y] = 1 # make map\n",
    "                        #im[0].data[x][y] = 0\n",
    "                     \n",
    "        ave_spec.append(np.mean(im[0].data[np.where(blankarray == 1)]))\n",
    "        \n",
    "        # Diagnostic plots\n",
    "        # display part of image under map\n",
    "        plt.matshow(pulled_image) # display \n",
    "        plt.plot(y1,x1,'ro')\n",
    "        plt.show()\n",
    "        \n",
    "        # display map\n",
    "        plt.matshow(blankarray)\n",
    "        plt.show()\n",
    "        \n",
    "        \n",
    "    im.close()\n"
   ]
  },
  {
   "cell_type": "code",
   "execution_count": null,
   "metadata": {
    "collapsed": true
   },
   "outputs": [],
   "source": [
    "plt.plot(wl_sci,ave_spec)\n",
    "plt.show()"
   ]
  }
 ],
 "metadata": {
  "kernelspec": {
   "display_name": "Python 2",
   "language": "python",
   "name": "python2"
  },
  "language_info": {
   "codemirror_mode": {
    "name": "ipython",
    "version": 2
   },
   "file_extension": ".py",
   "mimetype": "text/x-python",
   "name": "python",
   "nbconvert_exporter": "python",
   "pygments_lexer": "ipython2",
   "version": "2.7.14"
  }
 },
 "nbformat": 4,
 "nbformat_minor": 2
}
