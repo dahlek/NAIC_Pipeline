{
 "cells": [
  {
   "cell_type": "code",
   "execution_count": 1,
   "metadata": {
    "collapsed": true
   },
   "outputs": [],
   "source": [
    "from scipy import signal\n",
    "import matplotlib.pyplot as plt\n",
    "from scipy import interpolate\n",
    "import numpy as np\n",
    "from astropy.io import fits"
   ]
  },
  {
   "cell_type": "code",
   "execution_count": 3,
   "metadata": {
    "collapsed": true
   },
   "outputs": [],
   "source": [
    "# Fixes spectrum by finding corrective factor between whole filter and sidelobes, using Karkoschka disk-averaged spectrum as a reference\n",
    "\n",
    "# Kar\n",
    "kark = np.loadtxt('/Users/dahlek/Desktop/NAIC/spectrum_making/kark')\n",
    "ff = fits.open('/Users/dahlek/Desktop/Filter_Transmission_Functions/filtershape_apr19_470.fits')[0].data\n",
    "\n",
    "karkoschka_wl = kark[300:1700,0] #nm\n",
    "karkoschka_IF = kark[300:1700,3] #reflectance\n",
    "\n",
    "kark_interp = interpolate.interp1d(karkoschka_wl,karkoschka_IF) # function of karkoschka\n",
    "\n",
    "# This part stolen from Fstd_convolve.ipynb, used to convolve vega flux with our filter functions \n",
    "\n",
    "wl = np.linspace(470,950,241) # find the convolution at each of these wavelengths\n",
    "flux_wesee_kark = [] # Will be filled with entire filter function value\n",
    "flux_wesee_kark_sidelobes = [] # Will be filled with contribution from sidelobes\n",
    "flux_wesee_kark_mainlobe = [] # Will be filled with contribution from central lobe\n",
    "fixed_spectrum = []\n",
    "\n",
    "\n",
    "# what wavelength range to look at?\n",
    "wl1 = 470\n",
    "wl2 = 950\n",
    "\n",
    "\n",
    "for j in range(0,len(wl)):\n",
    "    if wl[j] == wl1:\n",
    "        wl1_index = j\n",
    "    if wl[j] == wl2:\n",
    "        wl2_index = j+1\n",
    "\n",
    "for i in range(wl1_index,wl2_index):\n",
    "    \n",
    "    index = int(wl[i]-470) #value for filter transmission function\n",
    "    \n",
    "    # DOING CALCULATION FOR ENTIRE FILTER FUNCTION\n",
    "\n",
    "    #find indeces in karkoschka's array that borders bandwidth of filter\n",
    "    indeces = []\n",
    "\n",
    "    for j in range(0,len(karkoschka_wl)):\n",
    "        #lower limit:\n",
    "        if karkoschka_wl[j] < wl[i]-24.5 and karkoschka_wl[j] > wl[i]-25.5:\n",
    "            indeces.append(j)\n",
    "        if karkoschka_wl[j] > wl[i]+24.5 and karkoschka_wl[j] < wl[i]+25.5:\n",
    "            indeces.append(j)\n",
    "\n",
    "    start = indeces[0]\n",
    "    stop = indeces[-1]\n",
    "    \n",
    "    #print start, stop\n",
    "\n",
    "    #make array of wavelengths for filter *** ASSUMING FILTER FUNCTION IS +-25 nm OF CENTER\n",
    "    filter_wavelengths = np.linspace(wl[i]-25,wl[i]+25,101)\n",
    "\n",
    "    #multiply filter and spectrum at that wavelength\n",
    "    mult_result = ff[:,index]*kark_interp(filter_wavelengths)\n",
    "\n",
    "    #take the sum\n",
    "    total_flux = mult_result.sum()\n",
    "    #divide the sum by total transmission\n",
    "    trans_sum = ff[:,index].sum()\n",
    "    flux_wesee_kark.append(total_flux/trans_sum)\n",
    "    \n",
    "    \n",
    "    # DOING CALCULATION FOR SIDE LOBES\n",
    "    \n",
    "    # Find minima on either side of central peak\n",
    "    center_peak_index = len(ff[:,index])/2\n",
    "\n",
    "    a = ff[:,index]\n",
    "    minima_span = 1\n",
    "    boo = np.r_[True, a[minima_span:] < a[:-minima_span]] & np.r_[a[:-minima_span] < a[minima_span:], True]\n",
    "    \n",
    "    for x in list(reversed(range(center_peak_index))):\n",
    "        if boo[x] == True:\n",
    "            min1_index = x\n",
    "            break\n",
    "    for x in range(center_peak_index,len(boo)):\n",
    "        if boo[x] == True:\n",
    "            min2_index = x # the index of the first minima on the right side of the main lobe. ff[x,index] is its value\n",
    "            break # stop the loop        \n",
    "\n",
    "    wl_sidelobes = []\n",
    "    transmission_sidelobes = []\n",
    "\n",
    "    wl_center = []\n",
    "    transmission_center = []\n",
    "\n",
    "    #make an array with the wavelengths and transmission at all the points outside of the main lobe\n",
    "    for y in range(0,len(filter_wavelengths)):\n",
    "        if y < min1_index or y > min2_index:\n",
    "            wl_sidelobes.append(filter_wavelengths[y])\n",
    "            transmission_sidelobes.append(ff[y,index])\n",
    "        if y > min1_index and y < min2_index:\n",
    "            wl_center.append(filter_wavelengths[y])\n",
    "            transmission_center.append(ff[y,index])\n",
    "        \n",
    "        \n",
    "    # SIDELOBES\n",
    "    #multiply filter and spectrum at that wavelength\n",
    "    mult_result = transmission_sidelobes*kark_interp(wl_sidelobes)\n",
    "\n",
    "    #take the sum\n",
    "    total_flux = mult_result.sum()\n",
    "    #divide the sum by total transmission\n",
    "    trans_sum = sum(transmission_sidelobes)\n",
    "    flux_wesee_kark_sidelobes.append(total_flux/trans_sum)\n",
    "    \n",
    "    # CENTRAL LOBE\n",
    "    mult_result = transmission_center*kark_interp(wl_center)\n",
    "    total_flux = mult_result.sum()\n",
    "    trans_sum = sum(transmission_center)\n",
    "    flux_wesee_kark_mainlobe.append(total_flux/trans_sum)\n",
    "\n",
    "fixed_spectrum2 = []\n",
    "\n",
    "for d in range(0,len(flux_wesee_kark)):\n",
    "    fixed_spectrum2.append(flux_wesee_kark[d]*(flux_wesee_kark_mainlobe[d]/flux_wesee_kark[d]))"
   ]
  },
  {
   "cell_type": "code",
   "execution_count": 10,
   "metadata": {},
   "outputs": [
    {
     "data": {
      "image/png": "[encoded data removed]",
      "text/plain": [
       "<matplotlib.figure.Figure at 0x1107c4910>"
      ]
     },
     "metadata": {},
     "output_type": "display_data"
    }
   ],
   "source": [
    "plt.plot(wl,fixed_spectrum2) # corrected spectrum\n",
    "plt.plot(wl,flux_wesee_kark,'--') # original data\n",
    "plt.show()"
   ]
  },
  {
   "cell_type": "code",
   "execution_count": 14,
   "metadata": {
    "collapsed": true
   },
   "outputs": [],
   "source": [
    "# find the corrective factor\n",
    "dummy = np.zeros((241,2))\n",
    "for i in range(0,len(fixed_spectrum2)):\n",
    "    dummy[i,1] = flux_wesee_kark[i]/fixed_spectrum2[i]\n",
    "dummy[:,0] = np.linspace(470,950,241)"
   ]
  },
  {
   "cell_type": "code",
   "execution_count": 17,
   "metadata": {
    "collapsed": true
   },
   "outputs": [],
   "source": [
    "np.savetxt('/Users/dahlek/Desktop/programs_2/test_corrective_factor',dummy)"
   ]
  },
  {
   "cell_type": "code",
   "execution_count": null,
   "metadata": {
    "collapsed": true
   },
   "outputs": [],
   "source": [
    "# Divide your NAIC spectrum by the corrective factor to correct for spectral leakage from the filter sidelobes"
   ]
  }
 ],
 "metadata": {
  "kernelspec": {
   "display_name": "Python 2",
   "language": "python",
   "name": "python2"
  },
  "language_info": {
   "codemirror_mode": {
    "name": "ipython",
    "version": 2
   },
   "file_extension": ".py",
   "mimetype": "text/x-python",
   "name": "python",
   "nbconvert_exporter": "python",
   "pygments_lexer": "ipython2",
   "version": "2.7.14"
  }
 },
 "nbformat": 4,
 "nbformat_minor": 2
}
