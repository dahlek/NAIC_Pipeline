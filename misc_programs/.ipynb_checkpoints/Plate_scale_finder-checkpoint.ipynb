{
 "cells": [
  {
   "cell_type": "markdown",
   "metadata": {},
   "source": [
    "Notebook that uses double star observations to determine a CCD's plate scale"
   ]
  },
  {
   "cell_type": "code",
   "execution_count": 2,
   "metadata": {
    "collapsed": true
   },
   "outputs": [],
   "source": [
    "import numpy as np\n",
    "from numpy import pi, r_\n",
    "import matplotlib.pyplot as plt\n",
    "from scipy import optimize\n",
    "from astropy.io import fits\n",
    "import math\n",
    "# uncertainties package, from https://pythonhosted.org/uncertainties/\n",
    "from uncertainties import ufloat\n",
    "from uncertainties.umath import *  # sin(), etc."
   ]
  },
  {
   "cell_type": "code",
   "execution_count": 3,
   "metadata": {
    "collapsed": true
   },
   "outputs": [],
   "source": [
    "#From http://scipy-cookbook.readthedocs.io/items/FittingData.html\n",
    "def gaussian(height, center_x, center_y, width_x, width_y):\n",
    "    \"\"\"Returns a gaussian function with the given parameters\"\"\"\n",
    "    width_x = float(width_x)\n",
    "    width_y = float(width_y)\n",
    "    return lambda x,y: height*np.exp(\n",
    "                -(((center_x-x)/width_x)**2+((center_y-y)/width_y)**2)/2)\n",
    "\n",
    "def moments(data):\n",
    "    \"\"\"Returns (height, x, y, width_x, width_y)\n",
    "    the gaussian parameters of a 2D distribution by calculating its\n",
    "    moments \"\"\"\n",
    "    total = data.sum()\n",
    "    X, Y = np.indices(data.shape)\n",
    "    x = (X*data).sum()/total\n",
    "    y = (Y*data).sum()/total\n",
    "    col = data[:, int(y)]\n",
    "    width_x = np.sqrt(np.abs((np.arange(col.size)-y)**2*col).sum()/col.sum())\n",
    "    row = data[int(x), :]\n",
    "    width_y = np.sqrt(np.abs((np.arange(row.size)-x)**2*row).sum()/row.sum())\n",
    "    height = data.max()\n",
    "    return height, x, y, width_x, width_y\n",
    "\n",
    "def fitgaussian(data):\n",
    "    \"\"\"Returns (height, x, y, width_x, width_y)\n",
    "    the gaussian parameters of a 2D distribution found by a fit\"\"\"\n",
    "    params = moments(data)\n",
    "    errorfunction = lambda p: np.ravel(gaussian(*p)(*np.indices(data.shape)) -\n",
    "                                 data)\n",
    "    p, success = optimize.leastsq(errorfunction, params)\n",
    "    return p"
   ]
  },
  {
   "cell_type": "code",
   "execution_count": 19,
   "metadata": {},
   "outputs": [],
   "source": [
    "# load reduced images of binary/double star\n",
    "# pre-January-2018\n",
    "#directory = '/Volumes/external_hd_2/external_hd_1/binary_march2016/'\n",
    "#imlist = np.loadtxt(directory+'imlist2',dtype=str)\n",
    "\n",
    "# post-January-2018 (May 2018)\n",
    "directory = '/Volumes/external_hd_2/external_hd_1/doublestar_data_may2018/'\n",
    "imlist = np.loadtxt('/Volumes/external_hd_2/external_hd_1/doublestar_data_may2018/doublestar_may2018',dtype=str)\n",
    "\n",
    "# post-January-2018 (Feb. 2018)\n",
    "#directory = '/Users/dahlek/Desktop/binarystar_feb2018/'\n",
    "#imlist = np.loadtxt('/Users/dahlek/Desktop/binarystar_feb2018/imlist',dtype=str)"
   ]
  },
  {
   "cell_type": "code",
   "execution_count": 20,
   "metadata": {},
   "outputs": [
    {
     "name": "stdout",
     "output_type": "stream",
     "text": [
      "NC0000128247.FIT\n"
     ]
    }
   ],
   "source": [
    "# print an image to see where the stars are\n",
    "im = fits.open(directory+imlist[3])\n",
    "print imlist[3]\n",
    "#im[0].header\n",
    "plt.matshow(im[0].data)\n",
    "plt.show()"
   ]
  },
  {
   "cell_type": "code",
   "execution_count": null,
   "metadata": {},
   "outputs": [],
   "source": [
    "# user-defined region of the data array that contains the primary and secondary stars\n",
    "\n",
    "# F47 values\n",
    "'''y1prim = 230\n",
    "y2prim = 280\n",
    "x1prim = 250\n",
    "x2prim = 300\n",
    "\n",
    "y1sec = 190\n",
    "y2sec = 230\n",
    "x1sec = 300\n",
    "x2sec = 350'''\n",
    "\n",
    "\n",
    "# F8300 values\n",
    "y1prim = 150\n",
    "y2prim = 300\n",
    "x1prim = 200\n",
    "x2prim = 350\n",
    "\n",
    "y1sec = 400\n",
    "y2sec = 480\n",
    "x1sec = 315\n",
    "x2sec = 415\n",
    "\n",
    "box_size = 20\n",
    "\n",
    "distance_with_error = [] # ufloats containing distance and error\n",
    "distance = []\n",
    "error = []\n",
    "wl = []\n",
    "\n",
    "for i in range(0,len(imlist)):\n",
    "    im = fits.open(directory+imlist[i])\n",
    "    \n",
    "    if im[0].header['rfon'] == 1:\n",
    "        \n",
    "        #Primary star\n",
    "        # Find location of maximum value in user-defined region\n",
    "        ind_prim = np.unravel_index(np.argmax(im[0].data[y1prim:y2prim,x1prim:x2prim], axis=None), im[0].data[y1prim:y2prim,x1prim:x2prim].shape)\n",
    "        \n",
    "        #Define a region to fit a Gaussian to\n",
    "        newarray_prim = im[0].data[(y1prim+ind_prim[0]-box_size):(y1prim+ind_prim[0]+box_size),(x1prim+ind_prim[1]-box_size):(x1prim+ind_prim[1]+box_size)]\n",
    "        #Fit a Gaussian\n",
    "        prim_y,prim_x = fitgaussian(newarray_prim)[1],fitgaussian(newarray_prim)[2]\n",
    "        prim_y_error, prim_x_error = fitgaussian(newarray_prim)[3]/2.355,fitgaussian(newarray_prim)[4]/2.355 # FWHM, not stdev\n",
    "        #Round them to ints\n",
    "        x_prim_final = int(round((x1prim+ind_prim[1]-box_size)+prim_x))\n",
    "        y_prim_final = int(round((y1prim+ind_prim[0]-box_size)+prim_y))\n",
    "        \n",
    "        #print x_prim_final,y_prim_final\n",
    "        \n",
    "        \n",
    "        #Secondary star\n",
    "        # Find location of maximum value in user-defined region\n",
    "        ind_sec = np.unravel_index(np.argmax(im[0].data[y1sec:y2sec,x1sec:x2sec], axis=None), im[0].data[y1sec:y2sec,x1sec:x2sec].shape)\n",
    "        \n",
    "        #Define a region to fit a Gaussian to\n",
    "        newarray_sec = im[0].data[(y1sec+ind_sec[0]-box_size):(y1sec+ind_sec[0]+box_size),(x1sec+ind_sec[1]-box_size):(x1sec+ind_sec[1]+box_size)]\n",
    "        #Fit a Gaussian\n",
    "        sec_y,sec_x = fitgaussian(newarray_sec)[1],fitgaussian(newarray_sec)[2]\n",
    "        sec_y_error,sec_x_error = fitgaussian(newarray_sec)[3]/2.355,fitgaussian(newarray_sec)[4]/2.355\n",
    "        #Round them to ints\n",
    "        x_sec_final = int(round((x1sec+ind_sec[1]-box_size)+sec_x))\n",
    "        y_sec_final = int(round((y1sec+ind_sec[0]-box_size)+sec_y))\n",
    "                \n",
    "        #print x_sec_final,y_sec_final\n",
    "        \n",
    "        # make their positions ufloats\n",
    "        x_prim_final_with_error = ufloat(x_prim_final,prim_x_error)\n",
    "        x_sec_final_with_error = ufloat(x_sec_final,sec_x_error)\n",
    "        y_prim_final_with_error = ufloat(y_prim_final,prim_y_error)\n",
    "        y_sec_final_with_error = ufloat(y_sec_final,sec_y_error)\n",
    "                \n",
    "        distance_with_error.append(((x_prim_final_with_error-x_sec_final_with_error)**2+(y_prim_final_with_error-y_sec_final_with_error)**2)**0.5)\n",
    "        \n",
    "        error.append( (((x_prim_final_with_error-x_sec_final_with_error)**2+(y_prim_final_with_error-y_sec_final_with_error)**2)**0.5).std_dev  )\n",
    "        \n",
    "        distance.append( (((x_prim_final_with_error-x_sec_final_with_error)**2+(y_prim_final_with_error-y_sec_final_with_error)**2)**0.5).nominal_value )\n",
    "        \n",
    "        wl.append(im[0].header['lambda'])\n",
    "        "
   ]
  },
  {
   "cell_type": "code",
   "execution_count": null,
   "metadata": {},
   "outputs": [],
   "source": [
    "plt.errorbar(wl,distance,fmt='o',color='red',ecolor='g',yerr=np.array(error))\n",
    "plt.title('F8300 Measurements (May 2018) - 12182-0357STF1627')\n",
    "plt.ylabel('Distance between binary components (pixels)',size=12)\n",
    "plt.xlabel('Wavelength (nm)',size=12)\n",
    "plt.show()"
   ]
  },
  {
   "cell_type": "code",
   "execution_count": 25,
   "metadata": {},
   "outputs": [],
   "source": [
    "%matplotlib inline"
   ]
  },
  {
   "cell_type": "code",
   "execution_count": 26,
   "metadata": {},
   "outputs": [
    {
     "data": {
      "image/png": "[encoded data removed]",
      "text/plain": [
       "<matplotlib.figure.Figure at 0x10eca4490>"
      ]
     },
     "metadata": {},
     "output_type": "display_data"
    }
   ],
   "source": [
    "plt.errorbar(wl,distance,fmt='o',color='red',ecolor='g',yerr=np.array(error))\n",
    "plt.title('F47 Measurements (March 2016) - 10200+1950STF1424AB')\n",
    "plt.ylabel('Distance between binary components (pixels)',size=12)\n",
    "plt.xlabel('Wavelength (nm)',size=12)\n",
    "plt.show()"
   ]
  },
  {
   "cell_type": "code",
   "execution_count": 21,
   "metadata": {},
   "outputs": [
    {
     "data": {
      "image/png": "[encoded data removed]",
      "text/plain": [
       "<matplotlib.figure.Figure at 0x151fa4b290>"
      ]
     },
     "metadata": {},
     "output_type": "display_data"
    }
   ],
   "source": [
    "plt.errorbar(wl,distance,fmt='o',color='red',ecolor='g',yerr=np.array(error))\n",
    "plt.title('F8300 Measurements (Feb 2018) - 12182-0357STF1627')\n",
    "plt.ylabel('Distance between binary components (pixels)',size=12)\n",
    "plt.xlabel('Wavelength (nm)',size=12)\n",
    "plt.show()"
   ]
  },
  {
   "cell_type": "code",
   "execution_count": 7,
   "metadata": {
    "collapsed": true
   },
   "outputs": [],
   "source": [
    "%matplotlib qt5"
   ]
  },
  {
   "cell_type": "code",
   "execution_count": 25,
   "metadata": {
    "collapsed": true
   },
   "outputs": [],
   "source": [
    "# Load the distance between these stars in \"; find these values on Simbad\n",
    "# Stars used for NAIC: \n",
    "# pre-2018 (observed in March 2016): 4.73\" (data can be found in /Volumes/PAL/emmas_external_hd/binary_march2016/)\n",
    "star_distance = ufloat(4.73,4.73*0.05) # assuming 5% error in angular sep measurements"
   ]
  },
  {
   "cell_type": "code",
   "execution_count": 26,
   "metadata": {},
   "outputs": [
    {
     "data": {
      "text/plain": [
       "0.10393581111644473+/-0.005847473311341126"
      ]
     },
     "execution_count": 26,
     "metadata": {},
     "output_type": "execute_result"
    }
   ],
   "source": [
    "# Find the average plate scale and error \n",
    "star_distance/np.mean(distance_with_error) # in \"/pix"
   ]
  },
  {
   "cell_type": "code",
   "execution_count": 31,
   "metadata": {
    "collapsed": true
   },
   "outputs": [],
   "source": [
    "# post-2018 (observed in May 2018): 19.9\" (data can be found in /Volumes/PAL/emmas_external_hd/doublestar_data_may2018/)\n",
    "#star_distance = ufloat(19.9,19.9*0.05) # old assumption; assuming 5% error in angular sep measurements"
   ]
  },
  {
   "cell_type": "code",
   "execution_count": 8,
   "metadata": {},
   "outputs": [
    {
     "data": {
      "text/plain": [
       "0.0847900011797713+/-0.004432559233932486"
      ]
     },
     "execution_count": 8,
     "metadata": {},
     "output_type": "execute_result"
    }
   ],
   "source": [
    "# Find the average plate scale and error \n",
    "star_distance/np.mean(distance_with_error) # in \"/pix"
   ]
  },
  {
   "cell_type": "code",
   "execution_count": 23,
   "metadata": {},
   "outputs": [
    {
     "data": {
      "text/plain": [
       "0.0850972085838623+/-0.004465810231350789"
      ]
     },
     "execution_count": 23,
     "metadata": {},
     "output_type": "execute_result"
    }
   ],
   "source": [
    "# post-2018 (observed in Feb 2018):\n",
    "star_distance/np.mean(distance_with_error) # in \"/pix"
   ]
  },
  {
   "cell_type": "code",
   "execution_count": null,
   "metadata": {
    "collapsed": true
   },
   "outputs": [],
   "source": []
  },
  {
   "cell_type": "code",
   "execution_count": 24,
   "metadata": {},
   "outputs": [
    {
     "name": "stdout",
     "output_type": "stream",
     "text": [
      "234+/-4\n"
     ]
    }
   ],
   "source": [
    "# feb 2018 star seperation in pixels\n",
    "print np.mean(distance_with_error)"
   ]
  },
  {
   "cell_type": "code",
   "execution_count": 28,
   "metadata": {},
   "outputs": [
    {
     "name": "stdout",
     "output_type": "stream",
     "text": [
      "235+/-4\n"
     ]
    }
   ],
   "source": [
    "# may 2018 star seperation in pixels\n",
    "print np.mean(distance_with_error)"
   ]
  },
  {
   "cell_type": "code",
   "execution_count": 3,
   "metadata": {},
   "outputs": [
    {
     "data": {
      "text/plain": [
       "0.08531021276595745+/-0.001461877808729359"
      ]
     },
     "execution_count": 3,
     "metadata": {},
     "output_type": "execute_result"
    }
   ],
   "source": [
    "# Final post-2018 camera measurements:\n",
    "distance_with_error = ufloat(235,4)\n",
    "star_distance = ufloat(20.0479,0.03969) # from binary_measurements_2018.ipynb\n",
    "star_distance/np.mean(distance_with_error)"
   ]
  },
  {
   "cell_type": "code",
   "execution_count": null,
   "metadata": {
    "collapsed": true
   },
   "outputs": [],
   "source": []
  }
 ],
 "metadata": {
  "kernelspec": {
   "display_name": "Python 2",
   "language": "python",
   "name": "python2"
  },
  "language_info": {
   "codemirror_mode": {
    "name": "ipython",
    "version": 2
   },
   "file_extension": ".py",
   "mimetype": "text/x-python",
   "name": "python",
   "nbconvert_exporter": "python",
   "pygments_lexer": "ipython2",
   "version": "2.7.14"
  }
 },
 "nbformat": 4,
 "nbformat_minor": 2
}
