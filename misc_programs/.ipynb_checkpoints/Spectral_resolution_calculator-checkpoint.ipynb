{
 "cells": [
  {
   "cell_type": "code",
   "execution_count": null,
   "metadata": {
    "collapsed": true
   },
   "outputs": [],
   "source": [
    "import numpy as np\n",
    "from astropy.io import fits\n",
    "import matplotlib.pyplot as plt\n",
    "from scipy.interpolate import interp1d"
   ]
  },
  {
   "cell_type": "code",
   "execution_count": null,
   "metadata": {
    "collapsed": true
   },
   "outputs": [],
   "source": [
    "# Load filter functions\n",
    "filtershape = fits.open('/Users/dahlek/Desktop/Filter_Transmission_Functions/filtershape_march2020.fits')"
   ]
  },
  {
   "cell_type": "code",
   "execution_count": null,
   "metadata": {},
   "outputs": [],
   "source": [
    "# Plot 2D filter functions\n",
    "plt.matshow(filtershape[0].data)\n",
    "plt.colorbar()\n",
    "plt.show()"
   ]
  },
  {
   "cell_type": "code",
   "execution_count": null,
   "metadata": {},
   "outputs": [],
   "source": [
    "# Plot some filters for whichever wavelengths you'd like to examine\n",
    "\n",
    "first_wl = filtershape[0].header['lambdlow']\n",
    "wl1 = 480\n",
    "wl2 = 500\n",
    "wl3 = 530\n",
    "wl4 = 550 \n",
    "wl5 = 580\n",
    "wl6 = 650\n",
    "\n",
    "index1 = wl1-first_wl\n",
    "index2 = wl2-first_wl\n",
    "index3 = wl3-first_wl\n",
    "index4 = wl4-first_wl\n",
    "index5 = wl5-first_wl\n",
    "index6 = wl6-first_wl\n",
    "\n",
    "mine_wl1 = np.linspace(wl1-25,wl1+25,101)\n",
    "mine_wl2 = np.linspace(wl2-25,wl2+25,101)\n",
    "mine_wl3 = np.linspace(wl3-25,wl3+25,101)\n",
    "mine_wl4 = np.linspace(wl4-25,wl4+25,101)\n",
    "mine_wl5 = np.linspace(wl5-25,wl5+25,101)\n",
    "mine_wl6 = np.linspace(wl6-25,wl6+25,101)\n",
    "\n",
    "plt.plot(mine_wl1,filtershape[0].data[:,index1])\n",
    "plt.plot(mine_wl2,filtershape[0].data[:,index2])\n",
    "plt.plot(mine_wl3,filtershape[0].data[:,index3])\n",
    "plt.plot(mine_wl4,filtershape[0].data[:,index4])\n",
    "plt.plot(mine_wl5,filtershape[0].data[:,index5])\n",
    "plt.plot(mine_wl6,filtershape[0].data[:,index6])\n",
    "\n",
    "\n",
    "plt.legend([str(wl1),str(wl2),str(wl3),str(wl4),str(wl5),str(wl6)])\n",
    "\n",
    "plt.show()"
   ]
  },
  {
   "cell_type": "code",
   "execution_count": null,
   "metadata": {},
   "outputs": [],
   "source": [
    "# Loop through wavelengths of interest (np.arange(0,241*2+1,2)), calculate FWHM at each wavelength\n",
    "\n",
    "first_wl = filtershape[0].header['lambdlow']\n",
    "ff = filtershape[0].data\n",
    "fwhm_list = []\n",
    "wavelength = []\n",
    "\n",
    "for index in np.arange(0,241*2,2):\n",
    "    wl = first_wl+index\n",
    "    wavelength.append(wl)\n",
    "    print wl, index\n",
    "    filter_shape = ff[:,index]\n",
    "    filter_wavelengths = np.linspace(wl-25,wl+25,filtershape[0].header['naxis2'])\n",
    "    \n",
    "    # Find minima on either side of central peak\n",
    "    center_peak_index = len(ff[:,index])/2\n",
    "\n",
    "    a = ff[:,index]\n",
    "    minima_span = 1\n",
    "    boo = np.r_[True, a[minima_span:] < a[:-minima_span]] & np.r_[a[:-minima_span] < a[minima_span:], True]\n",
    "    \n",
    "    for x in list(reversed(range(center_peak_index))):\n",
    "        if boo[x] == True:\n",
    "            min1_index = x\n",
    "            break\n",
    "    for x in range(center_peak_index,len(boo)):\n",
    "        if boo[x] == True:\n",
    "            min2_index = x # the index of the first minima on the right side of the main lobe. ff[x,index] is its value\n",
    "            break # stop the loop        \n",
    "\n",
    "    wl_sidelobes = []\n",
    "    transmission_sidelobes = []\n",
    "\n",
    "    wl_center = []\n",
    "    transmission_center = []\n",
    "\n",
    "    #make an array with the wavelengths and transmission at all the points outside of the main lobe\n",
    "    for y in range(0,len(filter_wavelengths)):\n",
    "        if y < min1_index or y > min2_index:\n",
    "            wl_sidelobes.append(filter_wavelengths[y])\n",
    "            transmission_sidelobes.append(ff[y,index])\n",
    "        # Adding more indeces to get on either side of FWHM interpolation range\n",
    "        extra = 4 # for my filters\n",
    "        #extra = 0 # for pauls\n",
    "        if y > min1_index-extra and y < min2_index+extra:\n",
    "            wl_center.append(filter_wavelengths[y])\n",
    "            transmission_center.append(ff[y,index])\n",
    "    \n",
    "    \n",
    "    # Find FWHM\n",
    "    \n",
    "    # find index of center of center lobe\n",
    "    val, idx = max((val, idx) for (idx, val) in enumerate(transmission_center))\n",
    "    \n",
    "    func1 = interp1d(transmission_center[0:idx],wl_center[0:idx]) # left side of maximum\n",
    "    func2 = interp1d(transmission_center[idx:],wl_center[idx:]) # right side of maximum\n",
    "    FWHM = round(func2(0.5) - func1(0.5),3)\n",
    "    plt.plot(wl_center,transmission_center,'.')\n",
    "    plt.plot(wl_sidelobes,transmission_sidelobes,'.')\n",
    "    plt.plot(func1(0.5),0.5,'ro')\n",
    "    plt.plot(func2(0.5),0.5,'ro')\n",
    "    plt.show()\n",
    "    print FWHM\n",
    "    fwhm_list.append(FWHM)\n",
    "    \n",
    "    "
   ]
  },
  {
   "cell_type": "code",
   "execution_count": null,
   "metadata": {},
   "outputs": [],
   "source": [
    "# Plot filter FWHM as a function of wavelength\n",
    "plt.plot(wavelength,fwhm_list,'.')\n",
    "plt.xlabel('Wavelength (nm)')\n",
    "plt.ylabel('FWHM of center filter lobe (nm)')\n",
    "plt.show()"
   ]
  },
  {
   "cell_type": "code",
   "execution_count": null,
   "metadata": {
    "collapsed": true
   },
   "outputs": [],
   "source": [
    "%matplotlib qt5"
   ]
  },
  {
   "cell_type": "code",
   "execution_count": null,
   "metadata": {
    "collapsed": true
   },
   "outputs": [],
   "source": [
    "# find lambda/d lambda for each wavelength\n",
    "spec_res = []\n",
    "for i in range(0,len(wavelength)):\n",
    "    spec_res.append(wavelength[i]/fwhm_list[i])"
   ]
  },
  {
   "cell_type": "code",
   "execution_count": null,
   "metadata": {},
   "outputs": [],
   "source": [
    "# Plot lambda/d lambda \n",
    "plt.plot(wavelength,spec_res,'.')\n",
    "plt.xlabel('Wavelength (nm)')\n",
    "plt.ylabel('$\\lambda$/d$\\lambda$')\n",
    "plt.show()"
   ]
  },
  {
   "cell_type": "code",
   "execution_count": null,
   "metadata": {},
   "outputs": [],
   "source": [
    "# Return the average spectral resolution\n",
    "np.mean(spec_res)"
   ]
  },
  {
   "cell_type": "code",
   "execution_count": null,
   "metadata": {},
   "outputs": [],
   "source": [
    "# Return the average FWHM\n",
    "np.mean(fwhm_list)"
   ]
  },
  {
   "cell_type": "code",
   "execution_count": null,
   "metadata": {},
   "outputs": [],
   "source": []
  },
  {
   "cell_type": "code",
   "execution_count": null,
   "metadata": {
    "collapsed": true
   },
   "outputs": [],
   "source": []
  }
 ],
 "metadata": {
  "kernelspec": {
   "display_name": "Python 2",
   "language": "python",
   "name": "python2"
  },
  "language_info": {
   "codemirror_mode": {
    "name": "ipython",
    "version": 2
   },
   "file_extension": ".py",
   "mimetype": "text/x-python",
   "name": "python",
   "nbconvert_exporter": "python",
   "pygments_lexer": "ipython2",
   "version": "2.7.14"
  }
 },
 "nbformat": 4,
 "nbformat_minor": 2
}
