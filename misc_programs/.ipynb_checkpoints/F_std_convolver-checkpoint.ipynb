{
 "cells": [
  {
   "cell_type": "markdown",
   "metadata": {},
   "source": [
    "Program for convolving filter functions with standard model spectra. (adapted from NAIC_pipeline_testrun/NAICprograms_june2018/filter_trans_func/F_std_convolve_apr2019.ipynb)"
   ]
  },
  {
   "cell_type": "code",
   "execution_count": null,
   "metadata": {
    "collapsed": true
   },
   "outputs": [],
   "source": [
    "import numpy as np\n",
    "import matplotlib.pyplot as plt\n",
    "from astropy.io import fits\n",
    "from scipy.interpolate import interp1d"
   ]
  },
  {
   "cell_type": "code",
   "execution_count": null,
   "metadata": {
    "collapsed": true
   },
   "outputs": [],
   "source": [
    "ff = fits.open('/Users/dahlek/Desktop/Filter_Transmission_Functions/filtershape_march2020.fits')[0].data\n",
    "ff_header = fits.open('/Users/dahlek/Desktop/Filter_Transmission_Functions/filtershape_march2020.fits')[0].header\n",
    "# New filter functions; resolution = 0.5 nm on y-axis, 1-nm on x-axis"
   ]
  },
  {
   "cell_type": "code",
   "execution_count": null,
   "metadata": {},
   "outputs": [],
   "source": [
    "plt.matshow(ff)\n",
    "plt.show()"
   ]
  },
  {
   "cell_type": "code",
   "execution_count": null,
   "metadata": {},
   "outputs": [],
   "source": [
    "fits.open('/Users/dahlek/Desktop/Filter_Transmission_Functions/filtershape_march2020.fits')[0].header"
   ]
  },
  {
   "cell_type": "code",
   "execution_count": null,
   "metadata": {
    "collapsed": true
   },
   "outputs": [],
   "source": [
    "# Load Kurucz model spectra of Vega and the Sun (both have been modified to have the correct units and scaled to be at 1 AU at the top of the atmosphere)\n",
    "vega = np.loadtxt('/Users/dahlek/Desktop/NAIC/std_spec/kuruczveg_cu_scaled')\n",
    "solar = np.loadtxt('/Users/dahlek/Desktop/NAIC/std_spec/kuruczsolar_cu_scaled')[430000:950000]\n",
    "\n",
    "vega_interp = interp1d(vega[:,0],vega[:,1])\n",
    "solar_interp = interp1d(solar[:,0],solar[:,1])"
   ]
  },
  {
   "cell_type": "code",
   "execution_count": null,
   "metadata": {
    "collapsed": true
   },
   "outputs": [],
   "source": [
    "# wavelengths you want to convolve at:\n",
    "wl_orig = np.linspace(470,950,241)\n",
    "wl = np.loadtxt('/Users/dahlek/Desktop/post_jan_2018_tuning_curve')[:,2]"
   ]
  },
  {
   "cell_type": "code",
   "execution_count": null,
   "metadata": {},
   "outputs": [],
   "source": [
    "plt.plot(wl,solar_interp(wl))\n",
    "plt.plot(wl_orig,solar_interp(wl_orig))\n",
    "plt.ylabel('ergs/sec/cm2/A')\n",
    "plt.xlabel('nm')\n",
    "plt.show()"
   ]
  },
  {
   "cell_type": "code",
   "execution_count": null,
   "metadata": {
    "collapsed": true
   },
   "outputs": [],
   "source": [
    "%matplotlib inline"
   ]
  },
  {
   "cell_type": "code",
   "execution_count": null,
   "metadata": {
    "scrolled": true
   },
   "outputs": [],
   "source": [
    "# Convolve filter functions w/ standard Vega spectrum\n",
    "\n",
    "flux_wesee_vega2 = []\n",
    "\n",
    "for i in range(0,len(wl)):\n",
    "    \n",
    "    index = int(wl[i]-ff_header['lambdlow']) #value for filter transmission function\n",
    "\n",
    "    #find indeces bordering bandwidth of filter\n",
    "    solar_indeces = []\n",
    "\n",
    "    for j in range(0,len(vega)):\n",
    "        #lower limit:\n",
    "        if vega[j,0] < wl[i]-24.9 and vega[j,0] > wl[i]-25.03:\n",
    "            solar_indeces.append(j)\n",
    "        if vega[j,0] > wl[i]+24.9 and vega[j,0] < wl[i]+25.03:\n",
    "            solar_indeces.append(j)\n",
    "\n",
    "    start = solar_indeces[0]\n",
    "    stop = solar_indeces[-1]\n",
    "    print wl[i]\n",
    "\n",
    "    #print start, stop\n",
    "\n",
    "    #make array of wavelengths for filter\n",
    "    filter_wavelengths = np.linspace(wl[i]-25,wl[i]+25,101)\n",
    "\n",
    "    #multiply filter and spectrum at that wavelength\n",
    "    mult_result = ff[:,index]*vega_interp(filter_wavelengths)\n",
    "\n",
    "    #take the sum\n",
    "    total_flux = mult_result.sum()\n",
    "    #divide the sum by total transmission\n",
    "    trans_sum = ff[:,index].sum()\n",
    "    flux_wesee_vega2.append(total_flux/trans_sum)"
   ]
  },
  {
   "cell_type": "code",
   "execution_count": null,
   "metadata": {
    "scrolled": true
   },
   "outputs": [],
   "source": [
    "#Solar\n",
    "\n",
    "flux_wesee_solar2 = []\n",
    "\n",
    "for i in range(0,len(wl)):\n",
    "    \n",
    "    index = int(wl[i]-ff_header['lambdlow']) #value for filter transmission function\n",
    "\n",
    "    #find indeces bordering bandwidth of filter\n",
    "    solar_indeces = []\n",
    "\n",
    "    for j in range(0,len(solar)):\n",
    "        #lower limit:\n",
    "        if solar[j,0] < wl[i]-24.9 and solar[j,0] > wl[i]-25.03:\n",
    "            solar_indeces.append(j)\n",
    "        if solar[j,0] > wl[i]+24.9 and solar[j,0] < wl[i]+25.03:\n",
    "            solar_indeces.append(j)\n",
    "\n",
    "    start = solar_indeces[0]\n",
    "    stop = solar_indeces[-1]\n",
    "\n",
    "    #print start, stop\n",
    "    print wl[i]\n",
    "\n",
    "    #make array of wavelengths for filter\n",
    "    filter_wavelengths = np.linspace(wl[i]-25,wl[i]+25,101)\n",
    "\n",
    "    #multiply filter and spectrum at that wavelength\n",
    "    mult_result = ff[:,index]*solar_interp(filter_wavelengths)\n",
    "\n",
    "    #take the sum\n",
    "    total_flux = mult_result.sum()\n",
    "    #divide the sum by total transmission\n",
    "    trans_sum = ff[:,index].sum()\n",
    "    flux_wesee_solar2.append(total_flux/trans_sum)"
   ]
  },
  {
   "cell_type": "code",
   "execution_count": null,
   "metadata": {},
   "outputs": [],
   "source": [
    "plt.plot(wl,solar_interp(wl))\n",
    "plt.plot(wl,flux_wesee_solar2)\n",
    "\n",
    "plt.title('Solar spectrum')\n",
    "plt.ylabel('Flux (erg/s/cm2/A)')\n",
    "plt.xlabel('Wavelength (nm)')\n",
    "plt.legend(['Actual flux','\\'Convolved\\' flux'])\n",
    "plt.show()"
   ]
  },
  {
   "cell_type": "code",
   "execution_count": null,
   "metadata": {},
   "outputs": [],
   "source": [
    "plt.plot(wl,solar_interp(wl))\n",
    "plt.plot(wl,flux_wesee_solar2)\n",
    "\n",
    "plt.title('Solar spectrum')\n",
    "plt.ylabel('Flux (erg/s/cm2/A)')\n",
    "plt.xlabel('Wavelength (nm)')\n",
    "plt.legend(['Actual flux','\\'Convolved\\' flux'])\n",
    "plt.show()"
   ]
  },
  {
   "cell_type": "code",
   "execution_count": null,
   "metadata": {},
   "outputs": [],
   "source": [
    "plt.plot(wl,vega_interp(wl))\n",
    "plt.plot(wl,flux_wesee_vega2)\n",
    "\n",
    "plt.title('Vega spectrum')\n",
    "plt.ylabel('Flux (erg/s/cm2/A)')\n",
    "plt.xlabel('Wavelength (nm)')\n",
    "plt.legend(['Actual flux','\\'Convolved\\' flux'])\n",
    "plt.show()"
   ]
  },
  {
   "cell_type": "code",
   "execution_count": null,
   "metadata": {
    "collapsed": true
   },
   "outputs": [],
   "source": [
    "#save those as new text files\n",
    "g = np.zeros((len(wl),2))\n",
    "g[:,0] = wl\n",
    "g[:,1] = flux_wesee_vega2\n",
    "np.savetxt('/Volumes/PAL/emmas_stuff/PJ19_data/Fstd_vega_convolv_march2020filters_v2',g)"
   ]
  },
  {
   "cell_type": "code",
   "execution_count": null,
   "metadata": {
    "collapsed": true
   },
   "outputs": [],
   "source": [
    "#save those as new text files\n",
    "g = np.zeros((len(wl),2))\n",
    "g[:,0] = wl\n",
    "g[:,1] = flux_wesee_solar2\n",
    "#np.savetxt('/home/users/dahlek/NAIC/std_spec/Fstd_solar_goodconvolv_950',g)\n",
    "np.savetxt('/Volumes/PAL/emmas_stuff/PJ19_data/Fstd_solar_convolv_march2020filters_v2',g)"
   ]
  },
  {
   "cell_type": "code",
   "execution_count": null,
   "metadata": {
    "collapsed": true
   },
   "outputs": [],
   "source": [
    "g = np.zeros((len(wl),3))\n",
    "g[:,0] = wl\n",
    "g[:,1] = flux_wesee_vega2\n",
    "g[:,2] = flux_wesee_solar2\n",
    "np.savetxt('/Volumes/PAL/emmas_stuff/PJ19_data/vega_and_solar_march2020filter_convolve_v2',g)"
   ]
  },
  {
   "cell_type": "code",
   "execution_count": null,
   "metadata": {
    "collapsed": true
   },
   "outputs": [],
   "source": []
  }
 ],
 "metadata": {
  "kernelspec": {
   "display_name": "Python 2",
   "language": "python",
   "name": "python2"
  },
  "language_info": {
   "codemirror_mode": {
    "name": "ipython",
    "version": 2
   },
   "file_extension": ".py",
   "mimetype": "text/x-python",
   "name": "python",
   "nbconvert_exporter": "python",
   "pygments_lexer": "ipython2",
   "version": "2.7.14"
  }
 },
 "nbformat": 4,
 "nbformat_minor": 2
}
